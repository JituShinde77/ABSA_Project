{
  "nbformat": 4,
  "nbformat_minor": 0,
  "metadata": {
    "colab": {
      "name": "Copy of CNN Assignment.ipynb",
      "version": "0.3.2",
      "provenance": [],
      "collapsed_sections": [],
      "include_colab_link": true
    },
    "kernelspec": {
      "name": "python3",
      "display_name": "Python 3"
    }
  },
  "cells": [
    {
      "cell_type": "markdown",
      "metadata": {
        "id": "view-in-github",
        "colab_type": "text"
      },
      "source": [
        "<a href=\"https://colab.research.google.com/github/JituShinde77/ABSA_Project/blob/master/Copy_of_CNN_Assignment.ipynb\" target=\"_parent\"><img src=\"https://colab.research.google.com/assets/colab-badge.svg\" alt=\"Open In Colab\"/></a>"
      ]
    },
    {
      "cell_type": "code",
      "metadata": {
        "id": "L-OdTO3GGwd-",
        "colab_type": "code",
        "colab": {}
      },
      "source": [
        "import numpy as np"
      ],
      "execution_count": 0,
      "outputs": []
    },
    {
      "cell_type": "code",
      "metadata": {
        "id": "dX949rBxVOYA",
        "colab_type": "code",
        "colab": {}
      },
      "source": [
        "# Credits: https://github.com/keras-team/keras/blob/master/examples/mnist_cnn.py\n",
        "\n",
        "from __future__ import print_function\n",
        "import keras\n",
        "from keras.datasets import mnist\n",
        "from keras.models import Sequential\n",
        "from keras.layers import Dense, Dropout, Flatten\n",
        "from keras.layers import Conv2D, MaxPooling2D\n",
        "from keras import backend as k\n",
        "from keras.layers import Activation\n",
        "\n",
        "batch_size = 128\n",
        "num_classes = 10\n",
        "epoches = 12\n",
        "\n",
        "# input Dimension\n",
        "img_rows, img_cols = 28, 28\n",
        "\n",
        "# the data, split between train and test sets\n",
        "(x_train, y_train), (x_test, y_test) = mnist.load_data()\n",
        "\n",
        "\n",
        "  "
      ],
      "execution_count": 0,
      "outputs": []
    },
    {
      "cell_type": "code",
      "metadata": {
        "id": "Z4jZEIHrF1Mb",
        "colab_type": "code",
        "outputId": "382d53ad-4415-4b1c-d0ae-c70a6d0c2c07",
        "colab": {
          "base_uri": "https://localhost:8080/",
          "height": 34
        }
      },
      "source": [
        "x_train.shape"
      ],
      "execution_count": 0,
      "outputs": [
        {
          "output_type": "execute_result",
          "data": {
            "text/plain": [
              "(60000, 28, 28)"
            ]
          },
          "metadata": {
            "tags": []
          },
          "execution_count": 2
        }
      ]
    },
    {
      "cell_type": "code",
      "metadata": {
        "id": "Mi55uKEqGGi-",
        "colab_type": "code",
        "outputId": "709e55d3-779c-4fe9-ba46-1983d867e6b6",
        "colab": {
          "base_uri": "https://localhost:8080/",
          "height": 34
        }
      },
      "source": [
        "k.image_data_format()"
      ],
      "execution_count": 0,
      "outputs": [
        {
          "output_type": "execute_result",
          "data": {
            "text/plain": [
              "'channels_last'"
            ]
          },
          "metadata": {
            "tags": []
          },
          "execution_count": 3
        }
      ]
    },
    {
      "cell_type": "code",
      "metadata": {
        "id": "vLZSUygyF5SC",
        "colab_type": "code",
        "colab": {}
      },
      "source": [
        "if k.image_data_format() == 'channels_first':\n",
        "    x_train = x_train.reshape(x_train.shape[0], 1, img_rows, img_cols)\n",
        "    x_test = x_test.reshape(x_test.shape[0], 1, img_rows, img_cols)\n",
        "    input_shape = (1, img_rows, img_cols)\n",
        "else:\n",
        "  x_train = x_train.reshape(x_train.shape[0], img_rows, img_cols, 1)\n",
        "  x_test = x_test.reshape(x_test.shape[0], img_rows, img_cols, 1)\n",
        "  input_shape = (img_rows, img_cols, 1)"
      ],
      "execution_count": 0,
      "outputs": []
    },
    {
      "cell_type": "code",
      "metadata": {
        "id": "MMtgoFUXG-LD",
        "colab_type": "code",
        "outputId": "bc5816b8-7304-4e10-991d-8cb082ba2c4f",
        "colab": {
          "base_uri": "https://localhost:8080/",
          "height": 70
        }
      },
      "source": [
        "x_train = x_train.astype('float32')\n",
        "x_test = x_test.astype('float32')\n",
        "x_train /= 255\n",
        "x_test /= 255\n",
        "\n",
        "print ('X_train shape:', x_train.shape)\n",
        "print (x_train.shape[0], 'train samples')\n",
        "print (x_test.shape[0], 'test samples')"
      ],
      "execution_count": 0,
      "outputs": [
        {
          "output_type": "stream",
          "text": [
            "X_train shape: (60000, 28, 28, 1)\n",
            "60000 train samples\n",
            "10000 test samples\n"
          ],
          "name": "stdout"
        }
      ]
    },
    {
      "cell_type": "code",
      "metadata": {
        "id": "jqpOcVKaIIjL",
        "colab_type": "code",
        "outputId": "e7db0293-31d0-4665-e011-7a0878136134",
        "colab": {
          "base_uri": "https://localhost:8080/",
          "height": 34
        }
      },
      "source": [
        "y_train = keras.utils.to_categorical(y_train, num_classes)\n",
        "y_test = keras.utils.to_categorical(y_test, num_classes)\n",
        "print (y_train.shape)"
      ],
      "execution_count": 0,
      "outputs": [
        {
          "output_type": "stream",
          "text": [
            "(60000, 10)\n"
          ],
          "name": "stdout"
        }
      ]
    },
    {
      "cell_type": "code",
      "metadata": {
        "id": "ra75Ue7fIoDl",
        "colab_type": "code",
        "outputId": "2e79a2ba-60d3-408d-bd4b-9620390d6451",
        "colab": {
          "base_uri": "https://localhost:8080/",
          "height": 706
        }
      },
      "source": [
        "model = Sequential()\n",
        "# model.add(Conv2D(32, kernel_size=(3, 3),\n",
        "#                  activation='relu',\n",
        "#                  input_shape=input_shape))\n",
        "model.add(Conv2D(32, kernel_size =(3, 3), activation='relu', input_shape=input_shape))\n",
        "model.add(Conv2D(64, (3, 3), activation='relu'))\n",
        "model.add(MaxPooling2D(pool_size=(2, 2)))\n",
        "model.add(Dropout(0.25))\n",
        "model.add(Flatten())\n",
        "model.add(Dense(128, activation='relu'))\n",
        "model.add(Dropout(0.25))\n",
        "model.add(Dense(num_classes, activation='softmax'))\n",
        "model.summary()"
      ],
      "execution_count": 0,
      "outputs": [
        {
          "output_type": "stream",
          "text": [
            "WARNING: Logging before flag parsing goes to stderr.\n",
            "W0830 01:28:49.729843 140257457457024 deprecation_wrapper.py:119] From /usr/local/lib/python3.6/dist-packages/keras/backend/tensorflow_backend.py:66: The name tf.get_default_graph is deprecated. Please use tf.compat.v1.get_default_graph instead.\n",
            "\n",
            "W0830 01:28:49.765921 140257457457024 deprecation_wrapper.py:119] From /usr/local/lib/python3.6/dist-packages/keras/backend/tensorflow_backend.py:541: The name tf.placeholder is deprecated. Please use tf.compat.v1.placeholder instead.\n",
            "\n",
            "W0830 01:28:49.773996 140257457457024 deprecation_wrapper.py:119] From /usr/local/lib/python3.6/dist-packages/keras/backend/tensorflow_backend.py:4432: The name tf.random_uniform is deprecated. Please use tf.random.uniform instead.\n",
            "\n",
            "W0830 01:28:49.824119 140257457457024 deprecation_wrapper.py:119] From /usr/local/lib/python3.6/dist-packages/keras/backend/tensorflow_backend.py:4267: The name tf.nn.max_pool is deprecated. Please use tf.nn.max_pool2d instead.\n",
            "\n",
            "W0830 01:28:49.826792 140257457457024 deprecation_wrapper.py:119] From /usr/local/lib/python3.6/dist-packages/keras/backend/tensorflow_backend.py:148: The name tf.placeholder_with_default is deprecated. Please use tf.compat.v1.placeholder_with_default instead.\n",
            "\n",
            "W0830 01:28:49.838363 140257457457024 deprecation.py:506] From /usr/local/lib/python3.6/dist-packages/keras/backend/tensorflow_backend.py:3733: calling dropout (from tensorflow.python.ops.nn_ops) with keep_prob is deprecated and will be removed in a future version.\n",
            "Instructions for updating:\n",
            "Please use `rate` instead of `keep_prob`. Rate should be set to `rate = 1 - keep_prob`.\n"
          ],
          "name": "stderr"
        },
        {
          "output_type": "stream",
          "text": [
            "Model: \"sequential_1\"\n",
            "_________________________________________________________________\n",
            "Layer (type)                 Output Shape              Param #   \n",
            "=================================================================\n",
            "conv2d_1 (Conv2D)            (None, 26, 26, 32)        320       \n",
            "_________________________________________________________________\n",
            "conv2d_2 (Conv2D)            (None, 24, 24, 64)        18496     \n",
            "_________________________________________________________________\n",
            "max_pooling2d_1 (MaxPooling2 (None, 12, 12, 64)        0         \n",
            "_________________________________________________________________\n",
            "dropout_1 (Dropout)          (None, 12, 12, 64)        0         \n",
            "_________________________________________________________________\n",
            "flatten_1 (Flatten)          (None, 9216)              0         \n",
            "_________________________________________________________________\n",
            "dense_1 (Dense)              (None, 128)               1179776   \n",
            "_________________________________________________________________\n",
            "dropout_2 (Dropout)          (None, 128)               0         \n",
            "_________________________________________________________________\n",
            "dense_2 (Dense)              (None, 10)                1290      \n",
            "=================================================================\n",
            "Total params: 1,199,882\n",
            "Trainable params: 1,199,882\n",
            "Non-trainable params: 0\n",
            "_________________________________________________________________\n"
          ],
          "name": "stdout"
        }
      ]
    },
    {
      "cell_type": "code",
      "metadata": {
        "id": "6o9nxUUyKF6V",
        "colab_type": "code",
        "outputId": "7b467893-5537-4bb2-d359-914efb613654",
        "colab": {
          "base_uri": "https://localhost:8080/",
          "height": 107
        }
      },
      "source": [
        "model.compile(loss=keras.losses.categorical_crossentropy, optimizer=keras.optimizers.Adadelta(), metrics=['accuracy'])\n"
      ],
      "execution_count": 0,
      "outputs": [
        {
          "output_type": "stream",
          "text": [
            "W0829 02:21:55.152040 140117579650944 deprecation_wrapper.py:119] From /usr/local/lib/python3.6/dist-packages/keras/optimizers.py:790: The name tf.train.Optimizer is deprecated. Please use tf.compat.v1.train.Optimizer instead.\n",
            "\n",
            "W0829 02:21:55.161859 140117579650944 deprecation_wrapper.py:119] From /usr/local/lib/python3.6/dist-packages/keras/backend/tensorflow_backend.py:3295: The name tf.log is deprecated. Please use tf.math.log instead.\n",
            "\n"
          ],
          "name": "stderr"
        }
      ]
    },
    {
      "cell_type": "code",
      "metadata": {
        "id": "yTug3naQLbae",
        "colab_type": "code",
        "outputId": "73bbe0f6-b8c8-4c09-a55b-87c090392e24",
        "colab": {
          "base_uri": "https://localhost:8080/",
          "height": 565
        }
      },
      "source": [
        "model.fit(x_train, y_train, \n",
        "          batch_size = batch_size,\n",
        "         epochs = epoches,\n",
        "         verbose = 1,\n",
        "         validation_data =(x_test, y_test))\n",
        "score = model.evaluate(x_test, y_test, verbose = 0)\n",
        "print (\"Test loss:\", score[0])\n",
        "print (\"Test accuacy\", score[1])"
      ],
      "execution_count": 0,
      "outputs": [
        {
          "output_type": "stream",
          "text": [
            "W0829 02:24:43.828438 140117579650944 deprecation.py:323] From /usr/local/lib/python3.6/dist-packages/tensorflow/python/ops/math_grad.py:1250: add_dispatch_support.<locals>.wrapper (from tensorflow.python.ops.array_ops) is deprecated and will be removed in a future version.\n",
            "Instructions for updating:\n",
            "Use tf.where in 2.0, which has the same broadcast rule as np.where\n"
          ],
          "name": "stderr"
        },
        {
          "output_type": "stream",
          "text": [
            "Train on 60000 samples, validate on 10000 samples\n",
            "Epoch 1/12\n",
            "60000/60000 [==============================] - 161s 3ms/step - loss: 0.2251 - acc: 0.9316 - val_loss: 0.0513 - val_acc: 0.9822\n",
            "Epoch 2/12\n",
            "60000/60000 [==============================] - 160s 3ms/step - loss: 0.0628 - acc: 0.9811 - val_loss: 0.0426 - val_acc: 0.9852\n",
            "Epoch 3/12\n",
            "60000/60000 [==============================] - 160s 3ms/step - loss: 0.0459 - acc: 0.9860 - val_loss: 0.0320 - val_acc: 0.9896\n",
            "Epoch 4/12\n",
            "60000/60000 [==============================] - 160s 3ms/step - loss: 0.0362 - acc: 0.9884 - val_loss: 0.0339 - val_acc: 0.9885\n",
            "Epoch 5/12\n",
            "60000/60000 [==============================] - 161s 3ms/step - loss: 0.0300 - acc: 0.9902 - val_loss: 0.0320 - val_acc: 0.9895\n",
            "Epoch 6/12\n",
            "60000/60000 [==============================] - 160s 3ms/step - loss: 0.0258 - acc: 0.9916 - val_loss: 0.0300 - val_acc: 0.9891\n",
            "Epoch 7/12\n",
            "60000/60000 [==============================] - 160s 3ms/step - loss: 0.0217 - acc: 0.9932 - val_loss: 0.0342 - val_acc: 0.9894\n",
            "Epoch 8/12\n",
            "60000/60000 [==============================] - 160s 3ms/step - loss: 0.0185 - acc: 0.9939 - val_loss: 0.0309 - val_acc: 0.9906\n",
            "Epoch 9/12\n",
            "60000/60000 [==============================] - 160s 3ms/step - loss: 0.0166 - acc: 0.9947 - val_loss: 0.0276 - val_acc: 0.9920\n",
            "Epoch 10/12\n",
            "60000/60000 [==============================] - 161s 3ms/step - loss: 0.0137 - acc: 0.9956 - val_loss: 0.0302 - val_acc: 0.9918\n",
            "Epoch 11/12\n",
            "60000/60000 [==============================] - 160s 3ms/step - loss: 0.0117 - acc: 0.9963 - val_loss: 0.0317 - val_acc: 0.9916\n",
            "Epoch 12/12\n",
            "60000/60000 [==============================] - 160s 3ms/step - loss: 0.0124 - acc: 0.9959 - val_loss: 0.0311 - val_acc: 0.9913\n",
            "Test loss: 0.03105238458764038\n",
            "Test accuacy 0.9913\n"
          ],
          "name": "stdout"
        }
      ]
    },
    {
      "cell_type": "code",
      "metadata": {
        "id": "Wn409Z75MC66",
        "colab_type": "code",
        "colab": {}
      },
      "source": [
        ""
      ],
      "execution_count": 0,
      "outputs": []
    },
    {
      "cell_type": "markdown",
      "metadata": {
        "id": "d_HuRlZnN562",
        "colab_type": "text"
      },
      "source": [
        "# **Assignment Tasks**"
      ]
    },
    {
      "cell_type": "markdown",
      "metadata": {
        "id": "JiEtSIBJUK4D",
        "colab_type": "text"
      },
      "source": [
        "Model 1:\n",
        "  3 Convolution Layers\n",
        "  "
      ]
    },
    {
      "cell_type": "code",
      "metadata": {
        "id": "zGzGxEInUKAk",
        "colab_type": "code",
        "outputId": "293ce658-fb77-48e8-b619-5acd9efcc991",
        "colab": {
          "base_uri": "https://localhost:8080/",
          "height": 598
        }
      },
      "source": [
        "\n",
        "from keras.layers import Activation\n",
        "model = Sequential()\n",
        "\n",
        "model.add(Conv2D(6, kernel_size=(5, 5), padding='same', input_shape=input_shape))\n",
        "model.add(Activation('relu'))\n",
        "model.add(MaxPooling2D(pool_size=(2, 2)))\n",
        "\n",
        "model.add(Conv2D(16, kernel_size=(5, 5)))\n",
        "model.add(Activation('relu'))\n",
        "model.add(MaxPooling2D(pool_size=(2, 2)))\n",
        "\n",
        "model.add(Conv2D(120, kernel_size=(5, 5)))\n",
        "model.add(Activation('relu'))\n",
        "          \n",
        "model.add(Dropout(0.25))\n",
        "model.add(Flatten())\n",
        "model.add(Dense(120, activation='relu'))\n",
        "model.add(Dense(84, activation='relu'))\n",
        "model.add(Dense(num_classes, activation='softmax'))\n",
        "\n",
        "model.summary()"
      ],
      "execution_count": 0,
      "outputs": [
        {
          "output_type": "stream",
          "text": [
            "_________________________________________________________________\n",
            "Layer (type)                 Output Shape              Param #   \n",
            "=================================================================\n",
            "conv2d_18 (Conv2D)           (None, 28, 28, 6)         156       \n",
            "_________________________________________________________________\n",
            "activation_9 (Activation)    (None, 28, 28, 6)         0         \n",
            "_________________________________________________________________\n",
            "max_pooling2d_10 (MaxPooling (None, 14, 14, 6)         0         \n",
            "_________________________________________________________________\n",
            "conv2d_19 (Conv2D)           (None, 10, 10, 16)        2416      \n",
            "_________________________________________________________________\n",
            "activation_10 (Activation)   (None, 10, 10, 16)        0         \n",
            "_________________________________________________________________\n",
            "max_pooling2d_11 (MaxPooling (None, 5, 5, 16)          0         \n",
            "_________________________________________________________________\n",
            "conv2d_20 (Conv2D)           (None, 1, 1, 120)         48120     \n",
            "_________________________________________________________________\n",
            "activation_11 (Activation)   (None, 1, 1, 120)         0         \n",
            "_________________________________________________________________\n",
            "dropout_11 (Dropout)         (None, 1, 1, 120)         0         \n",
            "_________________________________________________________________\n",
            "flatten_7 (Flatten)          (None, 120)               0         \n",
            "_________________________________________________________________\n",
            "dense_15 (Dense)             (None, 120)               14520     \n",
            "_________________________________________________________________\n",
            "dense_16 (Dense)             (None, 84)                10164     \n",
            "_________________________________________________________________\n",
            "dense_17 (Dense)             (None, 10)                850       \n",
            "=================================================================\n",
            "Total params: 76,226\n",
            "Trainable params: 76,226\n",
            "Non-trainable params: 0\n",
            "_________________________________________________________________\n"
          ],
          "name": "stdout"
        }
      ]
    },
    {
      "cell_type": "code",
      "metadata": {
        "id": "RWLxB12aN-al",
        "colab_type": "code",
        "colab": {}
      },
      "source": [
        "model.compile(loss=keras.losses.categorical_crossentropy,\n",
        "             optimizer=keras.optimizers.Adam(), metrics=['accuracy'])"
      ],
      "execution_count": 0,
      "outputs": []
    },
    {
      "cell_type": "code",
      "metadata": {
        "id": "QMBfavkIaNnD",
        "colab_type": "code",
        "outputId": "7b7023a7-c0e2-4530-be18-4c4f20fff5c2",
        "colab": {
          "base_uri": "https://localhost:8080/",
          "height": 492
        }
      },
      "source": [
        "model.fit(x_train, y_train,\n",
        "          batch_size=batch_size,\n",
        "          epochs=epoches,\n",
        "          verbose=1,\n",
        "          validation_data=(x_test, y_test))\n",
        "score = model.evaluate(x_test, y_test, verbose=0)\n",
        "print('Test loss:', score[0])\n",
        "print('Test accuracy:', score[1])"
      ],
      "execution_count": 0,
      "outputs": [
        {
          "output_type": "stream",
          "text": [
            "Train on 60000 samples, validate on 10000 samples\n",
            "Epoch 1/12\n",
            "60000/60000 [==============================] - 36s 598us/step - loss: 0.3729 - acc: 0.8823 - val_loss: 0.0789 - val_acc: 0.9739\n",
            "Epoch 2/12\n",
            "60000/60000 [==============================] - 36s 596us/step - loss: 0.1066 - acc: 0.9674 - val_loss: 0.0590 - val_acc: 0.9792\n",
            "Epoch 3/12\n",
            "60000/60000 [==============================] - 36s 593us/step - loss: 0.0774 - acc: 0.9765 - val_loss: 0.0517 - val_acc: 0.9825\n",
            "Epoch 4/12\n",
            "60000/60000 [==============================] - 36s 592us/step - loss: 0.0647 - acc: 0.9807 - val_loss: 0.0444 - val_acc: 0.9853\n",
            "Epoch 5/12\n",
            "60000/60000 [==============================] - 36s 592us/step - loss: 0.0530 - acc: 0.9834 - val_loss: 0.0372 - val_acc: 0.9882\n",
            "Epoch 6/12\n",
            "60000/60000 [==============================] - 36s 595us/step - loss: 0.0494 - acc: 0.9847 - val_loss: 0.0418 - val_acc: 0.9870\n",
            "Epoch 7/12\n",
            "60000/60000 [==============================] - 35s 591us/step - loss: 0.0417 - acc: 0.9869 - val_loss: 0.0375 - val_acc: 0.9881\n",
            "Epoch 8/12\n",
            "60000/60000 [==============================] - 36s 597us/step - loss: 0.0384 - acc: 0.9879 - val_loss: 0.0400 - val_acc: 0.9889\n",
            "Epoch 9/12\n",
            "60000/60000 [==============================] - 36s 596us/step - loss: 0.0372 - acc: 0.9884 - val_loss: 0.0344 - val_acc: 0.9899\n",
            "Epoch 10/12\n",
            "60000/60000 [==============================] - 36s 593us/step - loss: 0.0329 - acc: 0.9897 - val_loss: 0.0347 - val_acc: 0.9891\n",
            "Epoch 11/12\n",
            "60000/60000 [==============================] - 36s 593us/step - loss: 0.0294 - acc: 0.9902 - val_loss: 0.0326 - val_acc: 0.9910\n",
            "Epoch 12/12\n",
            "60000/60000 [==============================] - 35s 590us/step - loss: 0.0279 - acc: 0.9907 - val_loss: 0.0325 - val_acc: 0.9906\n",
            "Test loss: 0.032452682311221726\n",
            "Test accuracy: 0.9906\n"
          ],
          "name": "stdout"
        }
      ]
    },
    {
      "cell_type": "markdown",
      "metadata": {
        "id": "Z7Bsnxe9gX6E",
        "colab_type": "text"
      },
      "source": [
        "**With Dropout**"
      ]
    },
    {
      "cell_type": "code",
      "metadata": {
        "id": "5HffAfIiaTUN",
        "colab_type": "code",
        "outputId": "5f3bbb42-6fa3-47e1-bd9f-c165ab9f6f1d",
        "colab": {
          "base_uri": "https://localhost:8080/",
          "height": 703
        }
      },
      "source": [
        "model = Sequential()\n",
        "\n",
        "model.add(Conv2D(6, kernel_size=(5, 5), padding='same', input_shape=input_shape))\n",
        "model.add(Activation('relu'))\n",
        "model.add(Dropout(0.2))\n",
        "model.add(MaxPooling2D(pool_size=(2, 2)))\n",
        "\n",
        "model.add(Conv2D(16, kernel_size=(5, 5)))\n",
        "model.add(Activation('relu'))\n",
        "model.add(Dropout(0.2))\n",
        "model.add(MaxPooling2D(pool_size=(2, 2)))\n",
        "\n",
        "model.add(Conv2D(120, kernel_size=(5, 5)))\n",
        "model.add(Activation('relu'))\n",
        "model.add(Dropout(0.2))\n",
        "          \n",
        "model.add(Dropout(0.25))\n",
        "model.add(Flatten())\n",
        "model.add(Dense(120, activation='relu'))\n",
        "model.add(Dense(84, activation='relu'))\n",
        "model.add(Dense(num_classes, activation='softmax'))\n",
        "\n",
        "model.summary()\n",
        "\n",
        "\n",
        "\n",
        "\n",
        "\n",
        "model.summary()"
      ],
      "execution_count": 0,
      "outputs": [
        {
          "output_type": "stream",
          "text": [
            "_________________________________________________________________\n",
            "Layer (type)                 Output Shape              Param #   \n",
            "=================================================================\n",
            "conv2d_27 (Conv2D)           (None, 28, 28, 6)         156       \n",
            "_________________________________________________________________\n",
            "activation_18 (Activation)   (None, 28, 28, 6)         0         \n",
            "_________________________________________________________________\n",
            "dropout_20 (Dropout)         (None, 28, 28, 6)         0         \n",
            "_________________________________________________________________\n",
            "max_pooling2d_16 (MaxPooling (None, 14, 14, 6)         0         \n",
            "_________________________________________________________________\n",
            "conv2d_28 (Conv2D)           (None, 10, 10, 16)        2416      \n",
            "_________________________________________________________________\n",
            "activation_19 (Activation)   (None, 10, 10, 16)        0         \n",
            "_________________________________________________________________\n",
            "dropout_21 (Dropout)         (None, 10, 10, 16)        0         \n",
            "_________________________________________________________________\n",
            "max_pooling2d_17 (MaxPooling (None, 5, 5, 16)          0         \n",
            "_________________________________________________________________\n",
            "conv2d_29 (Conv2D)           (None, 1, 1, 120)         48120     \n",
            "_________________________________________________________________\n",
            "activation_20 (Activation)   (None, 1, 1, 120)         0         \n",
            "_________________________________________________________________\n",
            "dropout_22 (Dropout)         (None, 1, 1, 120)         0         \n",
            "_________________________________________________________________\n",
            "dropout_23 (Dropout)         (None, 1, 1, 120)         0         \n",
            "_________________________________________________________________\n",
            "flatten_10 (Flatten)         (None, 120)               0         \n",
            "_________________________________________________________________\n",
            "dense_24 (Dense)             (None, 120)               14520     \n",
            "_________________________________________________________________\n",
            "dense_25 (Dense)             (None, 84)                10164     \n",
            "_________________________________________________________________\n",
            "dense_26 (Dense)             (None, 10)                850       \n",
            "=================================================================\n",
            "Total params: 76,226\n",
            "Trainable params: 76,226\n",
            "Non-trainable params: 0\n",
            "_________________________________________________________________\n"
          ],
          "name": "stdout"
        }
      ]
    },
    {
      "cell_type": "code",
      "metadata": {
        "id": "2VwE3i0Udc7E",
        "colab_type": "code",
        "outputId": "08eadcb7-1d99-49b2-efa1-e4e0118d4a24",
        "colab": {
          "base_uri": "https://localhost:8080/",
          "height": 492
        }
      },
      "source": [
        "model.compile(loss=keras.losses.categorical_crossentropy,\n",
        "             optimizer=keras.optimizers.Adam(), metrics=['accuracy'])\n",
        "model.fit(x_train, y_train,\n",
        "          batch_size=batch_size,\n",
        "          epochs=epoches,\n",
        "          verbose=1,\n",
        "          validation_data=(x_test, y_test))\n",
        "score = model.evaluate(x_test, y_test, verbose=0)\n",
        "print('Test loss:', score[0])\n",
        "print('Test accuracy:', score[1])"
      ],
      "execution_count": 0,
      "outputs": [
        {
          "output_type": "stream",
          "text": [
            "Train on 60000 samples, validate on 10000 samples\n",
            "Epoch 1/12\n",
            "60000/60000 [==============================] - 43s 725us/step - loss: 0.4235 - acc: 0.8626 - val_loss: 0.1122 - val_acc: 0.9687\n",
            "Epoch 2/12\n",
            "60000/60000 [==============================] - 41s 686us/step - loss: 0.1391 - acc: 0.9572 - val_loss: 0.0714 - val_acc: 0.9792\n",
            "Epoch 3/12\n",
            "60000/60000 [==============================] - 42s 693us/step - loss: 0.1046 - acc: 0.9682 - val_loss: 0.0556 - val_acc: 0.9854\n",
            "Epoch 4/12\n",
            "60000/60000 [==============================] - 42s 693us/step - loss: 0.0860 - acc: 0.9737 - val_loss: 0.0523 - val_acc: 0.9833\n",
            "Epoch 5/12\n",
            "60000/60000 [==============================] - 42s 694us/step - loss: 0.0772 - acc: 0.9762 - val_loss: 0.0464 - val_acc: 0.9860\n",
            "Epoch 6/12\n",
            "60000/60000 [==============================] - 41s 679us/step - loss: 0.0660 - acc: 0.9800 - val_loss: 0.0365 - val_acc: 0.9896\n",
            "Epoch 7/12\n",
            "60000/60000 [==============================] - 41s 684us/step - loss: 0.0624 - acc: 0.9808 - val_loss: 0.0328 - val_acc: 0.9908\n",
            "Epoch 8/12\n",
            "60000/60000 [==============================] - 42s 700us/step - loss: 0.0563 - acc: 0.9834 - val_loss: 0.0309 - val_acc: 0.9912\n",
            "Epoch 9/12\n",
            "60000/60000 [==============================] - 41s 691us/step - loss: 0.0532 - acc: 0.9831 - val_loss: 0.0351 - val_acc: 0.9903\n",
            "Epoch 10/12\n",
            "60000/60000 [==============================] - 42s 694us/step - loss: 0.0498 - acc: 0.9845 - val_loss: 0.0289 - val_acc: 0.9916\n",
            "Epoch 11/12\n",
            "60000/60000 [==============================] - 42s 697us/step - loss: 0.0468 - acc: 0.9856 - val_loss: 0.0287 - val_acc: 0.9913\n",
            "Epoch 12/12\n",
            "60000/60000 [==============================] - 42s 693us/step - loss: 0.0452 - acc: 0.9861 - val_loss: 0.0305 - val_acc: 0.9906\n",
            "Test loss: 0.030517576549574734\n",
            "Test accuracy: 0.9906\n"
          ],
          "name": "stdout"
        }
      ]
    },
    {
      "cell_type": "code",
      "metadata": {
        "id": "CFwmVL8neMKq",
        "colab_type": "code",
        "colab": {}
      },
      "source": [
        ""
      ],
      "execution_count": 0,
      "outputs": []
    },
    {
      "cell_type": "markdown",
      "metadata": {
        "id": "o5N_WvBFeMpw",
        "colab_type": "text"
      },
      "source": [
        "**Without MaxPooling Layer**"
      ]
    },
    {
      "cell_type": "markdown",
      "metadata": {
        "id": "iOhtTYfyfm9d",
        "colab_type": "text"
      },
      "source": [
        "With Stride (2, 2)"
      ]
    },
    {
      "cell_type": "code",
      "metadata": {
        "id": "3GVjWC2Qd2Vz",
        "colab_type": "code",
        "outputId": "a730c71d-ab80-40f9-c897-762c3b315918",
        "colab": {
          "base_uri": "https://localhost:8080/",
          "height": 668
        }
      },
      "source": [
        "model = Sequential()\n",
        "\n",
        "model.add(Conv2D(6, kernel_size=(5, 5), strides=(2, 2), input_shape=input_shape))\n",
        "model.add(Activation('relu'))\n",
        "model.add(Dropout(0.2))\n",
        "\n",
        "\n",
        "model.add(Conv2D(16, kernel_size=(5, 5)))\n",
        "model.add(Activation('relu'))\n",
        "model.add(Dropout(0.2))\n",
        "\n",
        "\n",
        "model.add(Conv2D(120, kernel_size=(5, 5)))\n",
        "model.add(Activation('relu'))\n",
        "model.add(Dropout(0.2))\n",
        "model.add(MaxPooling2D(pool_size=(2, 2)))\n",
        "model.add(Dropout(0.25))\n",
        "model.add(Flatten())\n",
        "model.add(Dense(120, activation='relu'))\n",
        "model.add(Dense(84, activation='relu'))\n",
        "model.add(Dense(num_classes, activation='softmax'))\n",
        "\n",
        "model.summary()"
      ],
      "execution_count": 0,
      "outputs": [
        {
          "output_type": "stream",
          "text": [
            "_________________________________________________________________\n",
            "Layer (type)                 Output Shape              Param #   \n",
            "=================================================================\n",
            "conv2d_33 (Conv2D)           (None, 12, 12, 6)         156       \n",
            "_________________________________________________________________\n",
            "activation_23 (Activation)   (None, 12, 12, 6)         0         \n",
            "_________________________________________________________________\n",
            "dropout_26 (Dropout)         (None, 12, 12, 6)         0         \n",
            "_________________________________________________________________\n",
            "conv2d_34 (Conv2D)           (None, 8, 8, 16)          2416      \n",
            "_________________________________________________________________\n",
            "activation_24 (Activation)   (None, 8, 8, 16)          0         \n",
            "_________________________________________________________________\n",
            "dropout_27 (Dropout)         (None, 8, 8, 16)          0         \n",
            "_________________________________________________________________\n",
            "conv2d_35 (Conv2D)           (None, 4, 4, 120)         48120     \n",
            "_________________________________________________________________\n",
            "activation_25 (Activation)   (None, 4, 4, 120)         0         \n",
            "_________________________________________________________________\n",
            "dropout_28 (Dropout)         (None, 4, 4, 120)         0         \n",
            "_________________________________________________________________\n",
            "max_pooling2d_18 (MaxPooling (None, 2, 2, 120)         0         \n",
            "_________________________________________________________________\n",
            "dropout_29 (Dropout)         (None, 2, 2, 120)         0         \n",
            "_________________________________________________________________\n",
            "flatten_11 (Flatten)         (None, 480)               0         \n",
            "_________________________________________________________________\n",
            "dense_27 (Dense)             (None, 120)               57720     \n",
            "_________________________________________________________________\n",
            "dense_28 (Dense)             (None, 84)                10164     \n",
            "_________________________________________________________________\n",
            "dense_29 (Dense)             (None, 10)                850       \n",
            "=================================================================\n",
            "Total params: 119,426\n",
            "Trainable params: 119,426\n",
            "Non-trainable params: 0\n",
            "_________________________________________________________________\n"
          ],
          "name": "stdout"
        }
      ]
    },
    {
      "cell_type": "code",
      "metadata": {
        "id": "LDgHbKtadlaw",
        "colab_type": "code",
        "outputId": "0b205c0e-c242-4a19-f4b5-d5c3725e5ede",
        "colab": {
          "base_uri": "https://localhost:8080/",
          "height": 492
        }
      },
      "source": [
        "model.compile(loss=keras.losses.categorical_crossentropy,\n",
        "             optimizer=keras.optimizers.Adam(), metrics=['accuracy'])\n",
        "model.fit(x_train, y_train,\n",
        "          batch_size=batch_size,\n",
        "          epochs=epoches,\n",
        "          verbose=1,\n",
        "          validation_data=(x_test, y_test))\n",
        "score = model.evaluate(x_test, y_test, verbose=0)\n",
        "print('Test loss:', score[0])\n",
        "print('Test accuracy:', score[1])"
      ],
      "execution_count": 0,
      "outputs": [
        {
          "output_type": "stream",
          "text": [
            "Train on 60000 samples, validate on 10000 samples\n",
            "Epoch 1/12\n",
            "60000/60000 [==============================] - 27s 452us/step - loss: 0.4048 - acc: 0.8695 - val_loss: 0.1043 - val_acc: 0.9683\n",
            "Epoch 2/12\n",
            "60000/60000 [==============================] - 26s 441us/step - loss: 0.1395 - acc: 0.9560 - val_loss: 0.0704 - val_acc: 0.9790\n",
            "Epoch 3/12\n",
            "60000/60000 [==============================] - 27s 445us/step - loss: 0.1046 - acc: 0.9680 - val_loss: 0.0478 - val_acc: 0.9847\n",
            "Epoch 4/12\n",
            "60000/60000 [==============================] - 26s 432us/step - loss: 0.0845 - acc: 0.9739 - val_loss: 0.0461 - val_acc: 0.9849\n",
            "Epoch 5/12\n",
            "60000/60000 [==============================] - 26s 435us/step - loss: 0.0736 - acc: 0.9766 - val_loss: 0.0465 - val_acc: 0.9851\n",
            "Epoch 6/12\n",
            "60000/60000 [==============================] - 26s 434us/step - loss: 0.0668 - acc: 0.9791 - val_loss: 0.0421 - val_acc: 0.9867\n",
            "Epoch 7/12\n",
            "60000/60000 [==============================] - 26s 439us/step - loss: 0.0593 - acc: 0.9813 - val_loss: 0.0326 - val_acc: 0.9903\n",
            "Epoch 8/12\n",
            "60000/60000 [==============================] - 26s 430us/step - loss: 0.0560 - acc: 0.9829 - val_loss: 0.0378 - val_acc: 0.9882\n",
            "Epoch 9/12\n",
            "60000/60000 [==============================] - 26s 427us/step - loss: 0.0534 - acc: 0.9832 - val_loss: 0.0320 - val_acc: 0.9894\n",
            "Epoch 10/12\n",
            "60000/60000 [==============================] - 26s 428us/step - loss: 0.0466 - acc: 0.9849 - val_loss: 0.0305 - val_acc: 0.9898\n",
            "Epoch 11/12\n",
            "60000/60000 [==============================] - 26s 429us/step - loss: 0.0450 - acc: 0.9858 - val_loss: 0.0251 - val_acc: 0.9920\n",
            "Epoch 12/12\n",
            "60000/60000 [==============================] - 26s 431us/step - loss: 0.0420 - acc: 0.9864 - val_loss: 0.0262 - val_acc: 0.9920\n",
            "Test loss: 0.02623095845479984\n",
            "Test accuracy: 0.992\n"
          ],
          "name": "stdout"
        }
      ]
    },
    {
      "cell_type": "markdown",
      "metadata": {
        "id": "EDLc_YTez_Gc",
        "colab_type": "text"
      },
      "source": [
        "**Differen Kerals**"
      ]
    },
    {
      "cell_type": "code",
      "metadata": {
        "id": "BydJbob-eUbR",
        "colab_type": "code",
        "outputId": "144a7242-91cb-4e08-9f0e-85e2fabb0735",
        "colab": {
          "base_uri": "https://localhost:8080/",
          "height": 580
        }
      },
      "source": [
        "from keras.layers import Activation\n",
        "model = Sequential()\n",
        "\n",
        "model.add(Conv2D(20, kernel_size=(3, 3), padding='same', input_shape=input_shape))\n",
        "model.add(Activation('relu'))\n",
        "model.add(MaxPooling2D(pool_size=(2, 2)))\n",
        "\n",
        "model.add(Conv2D(40, kernel_size=(5, 5)))\n",
        "model.add(Activation('relu'))\n",
        "\n",
        "\n",
        "model.add(Conv2D(64, kernel_size=(7, 7)))\n",
        "model.add(Activation('relu'))\n",
        "          \n",
        "model.add(Dropout(0.25))\n",
        "model.add(Flatten())\n",
        "model.add(Dense(120, activation='relu'))\n",
        "model.add(Dense(84, activation='relu'))\n",
        "model.add(Dense(num_classes, activation='softmax'))\n",
        "\n",
        "model.summary()"
      ],
      "execution_count": 0,
      "outputs": [
        {
          "output_type": "stream",
          "text": [
            "Model: \"sequential_5\"\n",
            "_________________________________________________________________\n",
            "Layer (type)                 Output Shape              Param #   \n",
            "=================================================================\n",
            "conv2d_13 (Conv2D)           (None, 28, 28, 20)        200       \n",
            "_________________________________________________________________\n",
            "activation_11 (Activation)   (None, 28, 28, 20)        0         \n",
            "_________________________________________________________________\n",
            "max_pooling2d_7 (MaxPooling2 (None, 14, 14, 20)        0         \n",
            "_________________________________________________________________\n",
            "conv2d_14 (Conv2D)           (None, 10, 10, 40)        20040     \n",
            "_________________________________________________________________\n",
            "activation_12 (Activation)   (None, 10, 10, 40)        0         \n",
            "_________________________________________________________________\n",
            "conv2d_15 (Conv2D)           (None, 4, 4, 64)          125504    \n",
            "_________________________________________________________________\n",
            "activation_13 (Activation)   (None, 4, 4, 64)          0         \n",
            "_________________________________________________________________\n",
            "dropout_3 (Dropout)          (None, 4, 4, 64)          0         \n",
            "_________________________________________________________________\n",
            "flatten_3 (Flatten)          (None, 1024)              0         \n",
            "_________________________________________________________________\n",
            "dense_7 (Dense)              (None, 120)               123000    \n",
            "_________________________________________________________________\n",
            "dense_8 (Dense)              (None, 84)                10164     \n",
            "_________________________________________________________________\n",
            "dense_9 (Dense)              (None, 10)                850       \n",
            "=================================================================\n",
            "Total params: 279,758\n",
            "Trainable params: 279,758\n",
            "Non-trainable params: 0\n",
            "_________________________________________________________________\n"
          ],
          "name": "stdout"
        }
      ]
    },
    {
      "cell_type": "code",
      "metadata": {
        "id": "J0wISbmwzuso",
        "colab_type": "code",
        "outputId": "c121e71d-e7cd-40c2-f3f3-23059e1d27d2",
        "colab": {
          "base_uri": "https://localhost:8080/",
          "height": 492
        }
      },
      "source": [
        "model.compile(loss=keras.losses.categorical_crossentropy,\n",
        "             optimizer=keras.optimizers.Adam(), metrics=['accuracy'])\n",
        "model.fit(x_train, y_train,\n",
        "          batch_size=batch_size,\n",
        "          epochs=epoches,\n",
        "          verbose=1,\n",
        "          validation_data=(x_test, y_test))\n",
        "score = model.evaluate(x_test, y_test, verbose=0)\n",
        "print('Test loss:', score[0])\n",
        "print('Test accuracy:', score[1])"
      ],
      "execution_count": 0,
      "outputs": [
        {
          "output_type": "stream",
          "text": [
            "Train on 60000 samples, validate on 10000 samples\n",
            "Epoch 1/12\n",
            "60000/60000 [==============================] - 85s 1ms/step - loss: 0.2349 - acc: 0.9255 - val_loss: 0.0570 - val_acc: 0.9814\n",
            "Epoch 2/12\n",
            "60000/60000 [==============================] - 86s 1ms/step - loss: 0.0593 - acc: 0.9821 - val_loss: 0.0428 - val_acc: 0.9865\n",
            "Epoch 3/12\n",
            "60000/60000 [==============================] - 85s 1ms/step - loss: 0.0426 - acc: 0.9871 - val_loss: 0.0345 - val_acc: 0.9887\n",
            "Epoch 4/12\n",
            "60000/60000 [==============================] - 85s 1ms/step - loss: 0.0337 - acc: 0.9891 - val_loss: 0.0328 - val_acc: 0.9887\n",
            "Epoch 5/12\n",
            "60000/60000 [==============================] - 85s 1ms/step - loss: 0.0277 - acc: 0.9914 - val_loss: 0.0298 - val_acc: 0.9905\n",
            "Epoch 6/12\n",
            "60000/60000 [==============================] - 85s 1ms/step - loss: 0.0250 - acc: 0.9923 - val_loss: 0.0257 - val_acc: 0.9911\n",
            "Epoch 7/12\n",
            "60000/60000 [==============================] - 85s 1ms/step - loss: 0.0199 - acc: 0.9937 - val_loss: 0.0304 - val_acc: 0.9907\n",
            "Epoch 8/12\n",
            "60000/60000 [==============================] - 85s 1ms/step - loss: 0.0219 - acc: 0.9931 - val_loss: 0.0416 - val_acc: 0.9883\n",
            "Epoch 9/12\n",
            "60000/60000 [==============================] - 86s 1ms/step - loss: 0.0172 - acc: 0.9949 - val_loss: 0.0261 - val_acc: 0.9919\n",
            "Epoch 10/12\n",
            "60000/60000 [==============================] - 85s 1ms/step - loss: 0.0141 - acc: 0.9955 - val_loss: 0.0305 - val_acc: 0.9922\n",
            "Epoch 11/12\n",
            "60000/60000 [==============================] - 86s 1ms/step - loss: 0.0143 - acc: 0.9955 - val_loss: 0.0317 - val_acc: 0.9915\n",
            "Epoch 12/12\n",
            "60000/60000 [==============================] - 86s 1ms/step - loss: 0.0149 - acc: 0.9952 - val_loss: 0.0262 - val_acc: 0.9928\n",
            "Test loss: 0.026186323728905062\n",
            "Test accuracy: 0.9928\n"
          ],
          "name": "stdout"
        }
      ]
    },
    {
      "cell_type": "markdown",
      "metadata": {
        "id": "eUJ03VYOeU1l",
        "colab_type": "text"
      },
      "source": [
        "# **Task 2**\n",
        "\n",
        "5 Convolution Layers\n",
        "\n",
        "1. With out max pooling"
      ]
    },
    {
      "cell_type": "code",
      "metadata": {
        "id": "aLilY6n7ec2h",
        "colab_type": "code",
        "outputId": "2060c64d-c002-498e-cd21-2c9342579919",
        "colab": {
          "base_uri": "https://localhost:8080/",
          "height": 668
        }
      },
      "source": [
        "model = Sequential()\n",
        "\n",
        "model.add(Conv2D(6, kernel_size=(3, 3), padding='same', input_shape=input_shape))\n",
        "model.add(Activation('relu'))\n",
        "\n",
        "model.add(Conv2D(8, kernel_size=(5, 5), padding='same', input_shape=input_shape))\n",
        "model.add(Activation('relu'))\n",
        "\n",
        "model.add(Conv2D(12, kernel_size=(7, 7), padding='valid', input_shape=input_shape))\n",
        "model.add(Activation('relu'))\n",
        "\n",
        "model.add(Conv2D(16, kernel_size=(6, 6), padding='valid', input_shape=input_shape))\n",
        "model.add(Activation('relu'))\n",
        "\n",
        "model.add(Conv2D(20, kernel_size=(7, 7), input_shape=input_shape))\n",
        "model.add(Activation('relu'))\n",
        "\n",
        "\n",
        "\n",
        "model.add(Dropout(0.25))\n",
        "model.add(Flatten())\n",
        "model.add(Dense(64, activation='relu'))\n",
        "model.add(Dense(32, activation='relu'))\n",
        "model.add(Dense(num_classes, activation='softmax'))\n",
        "\n",
        "model.summary()"
      ],
      "execution_count": 0,
      "outputs": [
        {
          "output_type": "stream",
          "text": [
            "_________________________________________________________________\n",
            "Layer (type)                 Output Shape              Param #   \n",
            "=================================================================\n",
            "conv2d_56 (Conv2D)           (None, 28, 28, 6)         60        \n",
            "_________________________________________________________________\n",
            "activation_45 (Activation)   (None, 28, 28, 6)         0         \n",
            "_________________________________________________________________\n",
            "conv2d_57 (Conv2D)           (None, 28, 28, 8)         1208      \n",
            "_________________________________________________________________\n",
            "activation_46 (Activation)   (None, 28, 28, 8)         0         \n",
            "_________________________________________________________________\n",
            "conv2d_58 (Conv2D)           (None, 22, 22, 12)        4716      \n",
            "_________________________________________________________________\n",
            "activation_47 (Activation)   (None, 22, 22, 12)        0         \n",
            "_________________________________________________________________\n",
            "conv2d_59 (Conv2D)           (None, 17, 17, 16)        6928      \n",
            "_________________________________________________________________\n",
            "activation_48 (Activation)   (None, 17, 17, 16)        0         \n",
            "_________________________________________________________________\n",
            "conv2d_60 (Conv2D)           (None, 11, 11, 20)        15700     \n",
            "_________________________________________________________________\n",
            "activation_49 (Activation)   (None, 11, 11, 20)        0         \n",
            "_________________________________________________________________\n",
            "dropout_33 (Dropout)         (None, 11, 11, 20)        0         \n",
            "_________________________________________________________________\n",
            "flatten_15 (Flatten)         (None, 2420)              0         \n",
            "_________________________________________________________________\n",
            "dense_39 (Dense)             (None, 64)                154944    \n",
            "_________________________________________________________________\n",
            "dense_40 (Dense)             (None, 32)                2080      \n",
            "_________________________________________________________________\n",
            "dense_41 (Dense)             (None, 10)                330       \n",
            "=================================================================\n",
            "Total params: 185,966\n",
            "Trainable params: 185,966\n",
            "Non-trainable params: 0\n",
            "_________________________________________________________________\n"
          ],
          "name": "stdout"
        }
      ]
    },
    {
      "cell_type": "code",
      "metadata": {
        "id": "6LrroKqIhafc",
        "colab_type": "code",
        "outputId": "d4ebb4af-7ed2-48cc-b504-8a3e0e5023cc",
        "colab": {
          "base_uri": "https://localhost:8080/",
          "height": 492
        }
      },
      "source": [
        "model.compile(loss=keras.losses.categorical_crossentropy,\n",
        "             optimizer=keras.optimizers.Adam(), metrics=['accuracy'])\n",
        "model.fit(x_train, y_train,\n",
        "          batch_size=batch_size,\n",
        "          epochs=epoches,\n",
        "          verbose=1,\n",
        "          validation_data=(x_test, y_test))\n",
        "score = model.evaluate(x_test, y_test, verbose=0)\n",
        "print('Test loss:', score[0])\n",
        "print('Test accuracy:', score[1])"
      ],
      "execution_count": 0,
      "outputs": [
        {
          "output_type": "stream",
          "text": [
            "Train on 60000 samples, validate on 10000 samples\n",
            "Epoch 1/12\n",
            "60000/60000 [==============================] - 234s 4ms/step - loss: 0.2981 - acc: 0.9075 - val_loss: 0.0806 - val_acc: 0.9741\n",
            "Epoch 2/12\n",
            "60000/60000 [==============================] - 232s 4ms/step - loss: 0.0791 - acc: 0.9761 - val_loss: 0.0469 - val_acc: 0.9842\n",
            "Epoch 3/12\n",
            "60000/60000 [==============================] - 232s 4ms/step - loss: 0.0546 - acc: 0.9832 - val_loss: 0.0417 - val_acc: 0.9872\n",
            "Epoch 4/12\n",
            "60000/60000 [==============================] - 233s 4ms/step - loss: 0.0460 - acc: 0.9860 - val_loss: 0.0332 - val_acc: 0.9901\n",
            "Epoch 5/12\n",
            "60000/60000 [==============================] - 233s 4ms/step - loss: 0.0372 - acc: 0.9884 - val_loss: 0.0340 - val_acc: 0.9896\n",
            "Epoch 6/12\n",
            "60000/60000 [==============================] - 232s 4ms/step - loss: 0.0314 - acc: 0.9902 - val_loss: 0.0324 - val_acc: 0.9900\n",
            "Epoch 7/12\n",
            "60000/60000 [==============================] - 232s 4ms/step - loss: 0.0288 - acc: 0.9911 - val_loss: 0.0344 - val_acc: 0.9903\n",
            "Epoch 8/12\n",
            "60000/60000 [==============================] - 232s 4ms/step - loss: 0.0274 - acc: 0.9916 - val_loss: 0.0330 - val_acc: 0.9900\n",
            "Epoch 9/12\n",
            "60000/60000 [==============================] - 232s 4ms/step - loss: 0.0248 - acc: 0.9924 - val_loss: 0.0334 - val_acc: 0.9898\n",
            "Epoch 10/12\n",
            "60000/60000 [==============================] - 233s 4ms/step - loss: 0.0228 - acc: 0.9921 - val_loss: 0.0390 - val_acc: 0.9886\n",
            "Epoch 11/12\n",
            "60000/60000 [==============================] - 233s 4ms/step - loss: 0.0222 - acc: 0.9929 - val_loss: 0.0295 - val_acc: 0.9908\n",
            "Epoch 12/12\n",
            "60000/60000 [==============================] - 233s 4ms/step - loss: 0.0195 - acc: 0.9935 - val_loss: 0.0386 - val_acc: 0.9912\n",
            "Test loss: 0.03864415885613198\n",
            "Test accuracy: 0.9912\n"
          ],
          "name": "stdout"
        }
      ]
    },
    {
      "cell_type": "markdown",
      "metadata": {
        "id": "8OUTcIy51Nk5",
        "colab_type": "text"
      },
      "source": [
        "**2. Valid Padding**"
      ]
    },
    {
      "cell_type": "code",
      "metadata": {
        "id": "8K86Jln6WYP_",
        "colab_type": "code",
        "outputId": "8be4fdb1-adac-488d-cc95-1d2e825de22b",
        "colab": {
          "base_uri": "https://localhost:8080/",
          "height": 668
        }
      },
      "source": [
        "\n",
        "\n",
        "\n",
        "from keras.layers import Activation\n",
        "model = Sequential()\n",
        "\n",
        "model.add(Conv2D(6, kernel_size=(3, 3), padding='valid', input_shape=input_shape))\n",
        "model.add(Activation('relu'))\n",
        "model.add(Conv2D(8, kernel_size=(5, 5), padding='valid', input_shape=input_shape))\n",
        "model.add(Activation('relu'))\n",
        "\n",
        "model.add(Conv2D(12, kernel_size=(4, 4), padding='valid', input_shape=input_shape))\n",
        "model.add(Activation('relu'))\n",
        "model.add(Conv2D(16, kernel_size=(6, 6), padding='valid', input_shape=input_shape))\n",
        "model.add(Activation('relu'))\n",
        "\n",
        "\n",
        "model.add(Conv2D(20, kernel_size=(3, 3), input_shape=input_shape))\n",
        "model.add(Activation('relu'))\n",
        "\n",
        "\n",
        "\n",
        "model.add(Dropout(0.25))\n",
        "model.add(Flatten())\n",
        "model.add(Dense(64, activation='relu'))\n",
        "model.add(Dense(32, activation='relu'))\n",
        "model.add(Dense(num_classes, activation='softmax'))\n",
        "\n",
        "model.summary()"
      ],
      "execution_count": 0,
      "outputs": [
        {
          "output_type": "stream",
          "text": [
            "_________________________________________________________________\n",
            "Layer (type)                 Output Shape              Param #   \n",
            "=================================================================\n",
            "conv2d_7 (Conv2D)            (None, 26, 26, 6)         60        \n",
            "_________________________________________________________________\n",
            "activation_6 (Activation)    (None, 26, 26, 6)         0         \n",
            "_________________________________________________________________\n",
            "conv2d_8 (Conv2D)            (None, 22, 22, 8)         1208      \n",
            "_________________________________________________________________\n",
            "activation_7 (Activation)    (None, 22, 22, 8)         0         \n",
            "_________________________________________________________________\n",
            "conv2d_9 (Conv2D)            (None, 19, 19, 12)        1548      \n",
            "_________________________________________________________________\n",
            "activation_8 (Activation)    (None, 19, 19, 12)        0         \n",
            "_________________________________________________________________\n",
            "conv2d_10 (Conv2D)           (None, 14, 14, 16)        6928      \n",
            "_________________________________________________________________\n",
            "activation_9 (Activation)    (None, 14, 14, 16)        0         \n",
            "_________________________________________________________________\n",
            "conv2d_11 (Conv2D)           (None, 12, 12, 20)        2900      \n",
            "_________________________________________________________________\n",
            "activation_10 (Activation)   (None, 12, 12, 20)        0         \n",
            "_________________________________________________________________\n",
            "dropout_2 (Dropout)          (None, 12, 12, 20)        0         \n",
            "_________________________________________________________________\n",
            "flatten_2 (Flatten)          (None, 2880)              0         \n",
            "_________________________________________________________________\n",
            "dense_4 (Dense)              (None, 64)                184384    \n",
            "_________________________________________________________________\n",
            "dense_5 (Dense)              (None, 32)                2080      \n",
            "_________________________________________________________________\n",
            "dense_6 (Dense)              (None, 10)                330       \n",
            "=================================================================\n",
            "Total params: 199,438\n",
            "Trainable params: 199,438\n",
            "Non-trainable params: 0\n",
            "_________________________________________________________________\n"
          ],
          "name": "stdout"
        }
      ]
    },
    {
      "cell_type": "code",
      "metadata": {
        "id": "Gc68KmndW1D5",
        "colab_type": "code",
        "outputId": "51c112df-236e-4120-d1de-34b139e78c02",
        "colab": {
          "base_uri": "https://localhost:8080/",
          "height": 492
        }
      },
      "source": [
        "model.compile(loss=keras.losses.categorical_crossentropy,\n",
        "             optimizer=keras.optimizers.Adam(), metrics=['accuracy'])\n",
        "model.fit(x_train, y_train,\n",
        "          batch_size=batch_size,\n",
        "          epochs=epoches,\n",
        "          verbose=1,\n",
        "          validation_data=(x_test, y_test))\n",
        "score = model.evaluate(x_test, y_test, verbose=0)\n",
        "print('Test loss:', score[0])\n",
        "print('Test accuracy:', score[1])"
      ],
      "execution_count": 0,
      "outputs": [
        {
          "output_type": "stream",
          "text": [
            "Train on 60000 samples, validate on 10000 samples\n",
            "Epoch 1/12\n",
            "60000/60000 [==============================] - 111s 2ms/step - loss: 0.1961 - acc: 0.9412 - val_loss: 0.0766 - val_acc: 0.9746\n",
            "Epoch 2/12\n",
            "60000/60000 [==============================] - 112s 2ms/step - loss: 0.0813 - acc: 0.9755 - val_loss: 0.0598 - val_acc: 0.9816\n",
            "Epoch 3/12\n",
            "60000/60000 [==============================] - 112s 2ms/step - loss: 0.0556 - acc: 0.9828 - val_loss: 0.0424 - val_acc: 0.9871\n",
            "Epoch 4/12\n",
            "60000/60000 [==============================] - 112s 2ms/step - loss: 0.0430 - acc: 0.9868 - val_loss: 0.0395 - val_acc: 0.9886\n",
            "Epoch 5/12\n",
            "60000/60000 [==============================] - 112s 2ms/step - loss: 0.0362 - acc: 0.9887 - val_loss: 0.0347 - val_acc: 0.9897\n",
            "Epoch 6/12\n",
            "60000/60000 [==============================] - 112s 2ms/step - loss: 0.0302 - acc: 0.9907 - val_loss: 0.0417 - val_acc: 0.9885\n",
            "Epoch 7/12\n",
            "60000/60000 [==============================] - 112s 2ms/step - loss: 0.0276 - acc: 0.9912 - val_loss: 0.0422 - val_acc: 0.9880\n",
            "Epoch 8/12\n",
            "60000/60000 [==============================] - 112s 2ms/step - loss: 0.0264 - acc: 0.9917 - val_loss: 0.0336 - val_acc: 0.9896\n",
            "Epoch 9/12\n",
            "60000/60000 [==============================] - 111s 2ms/step - loss: 0.0217 - acc: 0.9931 - val_loss: 0.0372 - val_acc: 0.9905\n",
            "Epoch 10/12\n",
            "60000/60000 [==============================] - 112s 2ms/step - loss: 0.0206 - acc: 0.9931 - val_loss: 0.0450 - val_acc: 0.9870\n",
            "Epoch 11/12\n",
            "60000/60000 [==============================] - 112s 2ms/step - loss: 0.0188 - acc: 0.9939 - val_loss: 0.0310 - val_acc: 0.9912\n",
            "Epoch 12/12\n",
            "60000/60000 [==============================] - 111s 2ms/step - loss: 0.0184 - acc: 0.9941 - val_loss: 0.0409 - val_acc: 0.9887\n",
            "Test loss: 0.04090748833881808\n",
            "Test accuracy: 0.9887\n"
          ],
          "name": "stdout"
        }
      ]
    },
    {
      "cell_type": "markdown",
      "metadata": {
        "id": "VXsAqn_qBt8R",
        "colab_type": "text"
      },
      "source": [
        "Differet Kernals"
      ]
    },
    {
      "cell_type": "code",
      "metadata": {
        "id": "XVmOktOpedwA",
        "colab_type": "code",
        "outputId": "a2271b76-7d74-4ee4-c897-f7516ae47e6b",
        "colab": {
          "base_uri": "https://localhost:8080/",
          "height": 686
        }
      },
      "source": [
        "from keras.layers import Activation\n",
        "model = Sequential()\n",
        "\n",
        "model.add(Conv2D(6, kernel_size=(4, 4), padding='valid', input_shape=input_shape))\n",
        "model.add(Activation('relu'))\n",
        "model.add(Conv2D(8, kernel_size=(5, 5), padding='valid', input_shape=input_shape))\n",
        "model.add(Activation('relu'))\n",
        "\n",
        "model.add(Conv2D(12, kernel_size=(7, 7), padding='valid', input_shape=input_shape))\n",
        "model.add(Activation('relu'))\n",
        "model.add(Conv2D(20, kernel_size=(7, 7), padding='valid', input_shape=input_shape))\n",
        "model.add(Activation('relu'))\n",
        "\n",
        "\n",
        "model.add(Conv2D(20, kernel_size=(5, 5), input_shape=input_shape))\n",
        "model.add(Activation('relu'))\n",
        "\n",
        "\n",
        "\n",
        "model.add(Dropout(0.25))\n",
        "model.add(Flatten())\n",
        "model.add(Dense(64, activation='relu'))\n",
        "model.add(Dense(32, activation='relu'))\n",
        "model.add(Dense(num_classes, activation='softmax'))\n",
        "\n",
        "model.summary()"
      ],
      "execution_count": 0,
      "outputs": [
        {
          "output_type": "stream",
          "text": [
            "Model: \"sequential_4\"\n",
            "_________________________________________________________________\n",
            "Layer (type)                 Output Shape              Param #   \n",
            "=================================================================\n",
            "conv2d_16 (Conv2D)           (None, 25, 25, 6)         102       \n",
            "_________________________________________________________________\n",
            "activation_16 (Activation)   (None, 25, 25, 6)         0         \n",
            "_________________________________________________________________\n",
            "conv2d_17 (Conv2D)           (None, 21, 21, 8)         1208      \n",
            "_________________________________________________________________\n",
            "activation_17 (Activation)   (None, 21, 21, 8)         0         \n",
            "_________________________________________________________________\n",
            "conv2d_18 (Conv2D)           (None, 15, 15, 12)        4716      \n",
            "_________________________________________________________________\n",
            "activation_18 (Activation)   (None, 15, 15, 12)        0         \n",
            "_________________________________________________________________\n",
            "conv2d_19 (Conv2D)           (None, 9, 9, 20)          11780     \n",
            "_________________________________________________________________\n",
            "activation_19 (Activation)   (None, 9, 9, 20)          0         \n",
            "_________________________________________________________________\n",
            "conv2d_20 (Conv2D)           (None, 5, 5, 20)          10020     \n",
            "_________________________________________________________________\n",
            "activation_20 (Activation)   (None, 5, 5, 20)          0         \n",
            "_________________________________________________________________\n",
            "dropout_4 (Dropout)          (None, 5, 5, 20)          0         \n",
            "_________________________________________________________________\n",
            "flatten_4 (Flatten)          (None, 500)               0         \n",
            "_________________________________________________________________\n",
            "dense_10 (Dense)             (None, 64)                32064     \n",
            "_________________________________________________________________\n",
            "dense_11 (Dense)             (None, 32)                2080      \n",
            "_________________________________________________________________\n",
            "dense_12 (Dense)             (None, 10)                330       \n",
            "=================================================================\n",
            "Total params: 62,300\n",
            "Trainable params: 62,300\n",
            "Non-trainable params: 0\n",
            "_________________________________________________________________\n"
          ],
          "name": "stdout"
        }
      ]
    },
    {
      "cell_type": "code",
      "metadata": {
        "id": "3dyotNP2eeuu",
        "colab_type": "code",
        "outputId": "e94d8312-f3a1-4044-d8e1-ed6ff4c4b7e2",
        "colab": {
          "base_uri": "https://localhost:8080/",
          "height": 635
        }
      },
      "source": [
        "model.compile(loss=keras.losses.categorical_crossentropy,\n",
        "             optimizer=keras.optimizers.Adam(), metrics=['accuracy'])\n",
        "model.fit(x_train, y_train,\n",
        "          batch_size=batch_size,\n",
        "          epochs=epoches,\n",
        "          verbose=1,\n",
        "          validation_data=(x_test, y_test))\n",
        "score = model.evaluate(x_test, y_test, verbose=0)\n",
        "print('Test loss:', score[0])\n",
        "print('Test accuracy:', score[1])"
      ],
      "execution_count": 0,
      "outputs": [
        {
          "output_type": "stream",
          "text": [
            "W0901 15:50:12.147100 140590402131840 deprecation_wrapper.py:119] From /usr/local/lib/python3.6/dist-packages/keras/optimizers.py:793: The name tf.train.Optimizer is deprecated. Please use tf.compat.v1.train.Optimizer instead.\n",
            "\n",
            "W0901 15:50:12.157702 140590402131840 deprecation_wrapper.py:119] From /usr/local/lib/python3.6/dist-packages/keras/backend/tensorflow_backend.py:3576: The name tf.log is deprecated. Please use tf.math.log instead.\n",
            "\n",
            "W0901 15:50:12.308373 140590402131840 deprecation.py:323] From /usr/local/lib/python3.6/dist-packages/tensorflow/python/ops/math_grad.py:1250: add_dispatch_support.<locals>.wrapper (from tensorflow.python.ops.array_ops) is deprecated and will be removed in a future version.\n",
            "Instructions for updating:\n",
            "Use tf.where in 2.0, which has the same broadcast rule as np.where\n"
          ],
          "name": "stderr"
        },
        {
          "output_type": "stream",
          "text": [
            "Train on 60000 samples, validate on 10000 samples\n",
            "Epoch 1/12\n",
            "60000/60000 [==============================] - 111s 2ms/step - loss: 0.3444 - acc: 0.8907 - val_loss: 0.0899 - val_acc: 0.9708\n",
            "Epoch 2/12\n",
            "60000/60000 [==============================] - 111s 2ms/step - loss: 0.0963 - acc: 0.9705 - val_loss: 0.0513 - val_acc: 0.9827\n",
            "Epoch 3/12\n",
            "60000/60000 [==============================] - 111s 2ms/step - loss: 0.0677 - acc: 0.9794 - val_loss: 0.0434 - val_acc: 0.9847\n",
            "Epoch 4/12\n",
            "60000/60000 [==============================] - 110s 2ms/step - loss: 0.0550 - acc: 0.9832 - val_loss: 0.0403 - val_acc: 0.9860\n",
            "Epoch 5/12\n",
            "60000/60000 [==============================] - 110s 2ms/step - loss: 0.0470 - acc: 0.9859 - val_loss: 0.0423 - val_acc: 0.9869\n",
            "Epoch 6/12\n",
            "60000/60000 [==============================] - 110s 2ms/step - loss: 0.0414 - acc: 0.9875 - val_loss: 0.0384 - val_acc: 0.9876\n",
            "Epoch 7/12\n",
            "60000/60000 [==============================] - 110s 2ms/step - loss: 0.0398 - acc: 0.9880 - val_loss: 0.0366 - val_acc: 0.9888\n",
            "Epoch 8/12\n",
            "60000/60000 [==============================] - 107s 2ms/step - loss: 0.0346 - acc: 0.9894 - val_loss: 0.0316 - val_acc: 0.9902\n",
            "Epoch 9/12\n",
            "60000/60000 [==============================] - 103s 2ms/step - loss: 0.0340 - acc: 0.9897 - val_loss: 0.0400 - val_acc: 0.9876\n",
            "Epoch 10/12\n",
            "60000/60000 [==============================] - 100s 2ms/step - loss: 0.0304 - acc: 0.9905 - val_loss: 0.0425 - val_acc: 0.9866\n",
            "Epoch 11/12\n",
            "60000/60000 [==============================] - 108s 2ms/step - loss: 0.0287 - acc: 0.9912 - val_loss: 0.0277 - val_acc: 0.9915\n",
            "Epoch 12/12\n",
            "60000/60000 [==============================] - 103s 2ms/step - loss: 0.0268 - acc: 0.9914 - val_loss: 0.0382 - val_acc: 0.9892\n",
            "Test loss: 0.03823494691622036\n",
            "Test accuracy: 0.9892\n"
          ],
          "name": "stdout"
        }
      ]
    },
    {
      "cell_type": "markdown",
      "metadata": {
        "id": "WqXNduexdghO",
        "colab_type": "text"
      },
      "source": [
        "**All same 3 X 3 Kernals**"
      ]
    },
    {
      "cell_type": "code",
      "metadata": {
        "id": "bOYCNMTOclYJ",
        "colab_type": "code",
        "outputId": "6db6f9af-a138-463a-dfe9-33a685229aa4",
        "colab": {
          "base_uri": "https://localhost:8080/",
          "height": 668
        }
      },
      "source": [
        "from keras.layers import Activation\n",
        "model = Sequential()\n",
        "\n",
        "model.add(Conv2D(6, kernel_size=(3, 3), padding='valid', input_shape=input_shape))\n",
        "model.add(Activation('relu'))\n",
        "model.add(Conv2D(8, kernel_size=(3, 3), padding='valid', input_shape=input_shape))\n",
        "model.add(Activation('relu'))\n",
        "\n",
        "model.add(Conv2D(12, kernel_size=(3, 3), padding='valid', input_shape=input_shape))\n",
        "model.add(Activation('relu'))\n",
        "model.add(Conv2D(16, kernel_size=(3, 3), padding='valid', input_shape=input_shape))\n",
        "model.add(Activation('relu'))\n",
        "\n",
        "\n",
        "model.add(Conv2D(20, kernel_size=(3, 3), input_shape=input_shape))\n",
        "model.add(Activation('relu'))\n",
        "\n",
        "\n",
        "\n",
        "model.add(Dropout(0.25))\n",
        "model.add(Flatten())\n",
        "model.add(Dense(64, activation='relu'))\n",
        "model.add(Dense(32, activation='relu'))\n",
        "model.add(Dense(num_classes, activation='softmax'))\n",
        "\n",
        "model.summary()"
      ],
      "execution_count": 0,
      "outputs": [
        {
          "output_type": "stream",
          "text": [
            "_________________________________________________________________\n",
            "Layer (type)                 Output Shape              Param #   \n",
            "=================================================================\n",
            "conv2d_22 (Conv2D)           (None, 26, 26, 6)         60        \n",
            "_________________________________________________________________\n",
            "activation_20 (Activation)   (None, 26, 26, 6)         0         \n",
            "_________________________________________________________________\n",
            "conv2d_23 (Conv2D)           (None, 24, 24, 8)         440       \n",
            "_________________________________________________________________\n",
            "activation_21 (Activation)   (None, 24, 24, 8)         0         \n",
            "_________________________________________________________________\n",
            "conv2d_24 (Conv2D)           (None, 22, 22, 12)        876       \n",
            "_________________________________________________________________\n",
            "activation_22 (Activation)   (None, 22, 22, 12)        0         \n",
            "_________________________________________________________________\n",
            "conv2d_25 (Conv2D)           (None, 20, 20, 16)        1744      \n",
            "_________________________________________________________________\n",
            "activation_23 (Activation)   (None, 20, 20, 16)        0         \n",
            "_________________________________________________________________\n",
            "conv2d_26 (Conv2D)           (None, 18, 18, 20)        2900      \n",
            "_________________________________________________________________\n",
            "activation_24 (Activation)   (None, 18, 18, 20)        0         \n",
            "_________________________________________________________________\n",
            "dropout_4 (Dropout)          (None, 18, 18, 20)        0         \n",
            "_________________________________________________________________\n",
            "flatten_4 (Flatten)          (None, 6480)              0         \n",
            "_________________________________________________________________\n",
            "dense_10 (Dense)             (None, 64)                414784    \n",
            "_________________________________________________________________\n",
            "dense_11 (Dense)             (None, 32)                2080      \n",
            "_________________________________________________________________\n",
            "dense_12 (Dense)             (None, 10)                330       \n",
            "=================================================================\n",
            "Total params: 423,214\n",
            "Trainable params: 423,214\n",
            "Non-trainable params: 0\n",
            "_________________________________________________________________\n"
          ],
          "name": "stdout"
        }
      ]
    },
    {
      "cell_type": "code",
      "metadata": {
        "id": "imgPZ1zydo64",
        "colab_type": "code",
        "outputId": "4e241415-0e96-4a2d-de08-3684dca1cdcb",
        "colab": {
          "base_uri": "https://localhost:8080/",
          "height": 492
        }
      },
      "source": [
        "model.compile(loss=keras.losses.categorical_crossentropy,\n",
        "             optimizer=keras.optimizers.Adam(), metrics=['accuracy'])\n",
        "model.fit(x_train, y_train,\n",
        "          batch_size=batch_size,\n",
        "          epochs=epoches,\n",
        "          verbose=1,\n",
        "          validation_data=(x_test, y_test))\n",
        "score = model.evaluate(x_test, y_test, verbose=0)\n",
        "print('Test loss:', score[0])\n",
        "print('Test accuracy:', score[1])"
      ],
      "execution_count": 0,
      "outputs": [
        {
          "output_type": "stream",
          "text": [
            "Train on 60000 samples, validate on 10000 samples\n",
            "Epoch 1/12\n",
            "60000/60000 [==============================] - 100s 2ms/step - loss: 0.2214 - acc: 0.9307 - val_loss: 0.0580 - val_acc: 0.9808\n",
            "Epoch 2/12\n",
            "60000/60000 [==============================] - 100s 2ms/step - loss: 0.0618 - acc: 0.9810 - val_loss: 0.0518 - val_acc: 0.9825\n",
            "Epoch 3/12\n",
            "60000/60000 [==============================] - 99s 2ms/step - loss: 0.0415 - acc: 0.9871 - val_loss: 0.0361 - val_acc: 0.9882\n",
            "Epoch 4/12\n",
            "60000/60000 [==============================] - 100s 2ms/step - loss: 0.0333 - acc: 0.9896 - val_loss: 0.0345 - val_acc: 0.9884\n",
            "Epoch 5/12\n",
            "60000/60000 [==============================] - 99s 2ms/step - loss: 0.0255 - acc: 0.9920 - val_loss: 0.0287 - val_acc: 0.9908\n",
            "Epoch 6/12\n",
            "60000/60000 [==============================] - 100s 2ms/step - loss: 0.0221 - acc: 0.9930 - val_loss: 0.0342 - val_acc: 0.9898\n",
            "Epoch 7/12\n",
            "60000/60000 [==============================] - 100s 2ms/step - loss: 0.0182 - acc: 0.9944 - val_loss: 0.0391 - val_acc: 0.9901\n",
            "Epoch 8/12\n",
            "60000/60000 [==============================] - 100s 2ms/step - loss: 0.0175 - acc: 0.9941 - val_loss: 0.0397 - val_acc: 0.9884\n",
            "Epoch 9/12\n",
            "60000/60000 [==============================] - 100s 2ms/step - loss: 0.0145 - acc: 0.9952 - val_loss: 0.0302 - val_acc: 0.9911\n",
            "Epoch 10/12\n",
            "60000/60000 [==============================] - 100s 2ms/step - loss: 0.0137 - acc: 0.9954 - val_loss: 0.0359 - val_acc: 0.9896\n",
            "Epoch 11/12\n",
            "60000/60000 [==============================] - 100s 2ms/step - loss: 0.0120 - acc: 0.9961 - val_loss: 0.0387 - val_acc: 0.9896\n",
            "Epoch 12/12\n",
            "60000/60000 [==============================] - 99s 2ms/step - loss: 0.0119 - acc: 0.9959 - val_loss: 0.0372 - val_acc: 0.9898\n",
            "Test loss: 0.03718176572134198\n",
            "Test accuracy: 0.9898\n"
          ],
          "name": "stdout"
        }
      ]
    },
    {
      "cell_type": "markdown",
      "metadata": {
        "id": "qelVQ81S1-ve",
        "colab_type": "text"
      },
      "source": [
        "**With Max Pooling**"
      ]
    },
    {
      "cell_type": "code",
      "metadata": {
        "id": "4SMLTMEJl0r4",
        "colab_type": "code",
        "outputId": "ddb45c1b-3f0c-46fc-f72c-f79707b40ad4",
        "colab": {
          "base_uri": "https://localhost:8080/",
          "height": 738
        }
      },
      "source": [
        "from keras.layers import Activation\n",
        "model = Sequential()\n",
        "\n",
        "model.add(Conv2D(16, kernel_size=(3, 3), padding='valid', input_shape=input_shape))\n",
        "model.add(Activation('relu'))\n",
        "model.add(Conv2D(32, kernel_size=(3, 3), padding='valid', input_shape=input_shape))\n",
        "model.add(Activation('relu'))\n",
        "model.add(MaxPooling2D(pool_size=(2, 2)))\n",
        "\n",
        "model.add(Conv2D(64, kernel_size=(3, 3), padding='valid', input_shape=input_shape))\n",
        "model.add(Activation('relu'))\n",
        "model.add(Conv2D(128, kernel_size=(3, 3), padding='valid', input_shape=input_shape))\n",
        "model.add(Activation('relu'))\n",
        "model.add(MaxPooling2D(pool_size=(2, 2)))\n",
        "\n",
        "\n",
        "model.add(Conv2D(256, kernel_size=(3, 3), input_shape=input_shape))\n",
        "model.add(Activation('relu'))\n",
        "\n",
        "\n",
        "\n",
        "model.add(Dropout(0.25))\n",
        "model.add(Flatten())\n",
        "model.add(Dense(64, activation='relu'))\n",
        "model.add(Dense(32, activation='relu'))\n",
        "model.add(Dense(num_classes, activation='softmax'))\n",
        "\n",
        "model.summary()"
      ],
      "execution_count": 0,
      "outputs": [
        {
          "output_type": "stream",
          "text": [
            "_________________________________________________________________\n",
            "Layer (type)                 Output Shape              Param #   \n",
            "=================================================================\n",
            "conv2d_41 (Conv2D)           (None, 26, 26, 16)        160       \n",
            "_________________________________________________________________\n",
            "activation_38 (Activation)   (None, 26, 26, 16)        0         \n",
            "_________________________________________________________________\n",
            "conv2d_42 (Conv2D)           (None, 24, 24, 32)        4640      \n",
            "_________________________________________________________________\n",
            "activation_39 (Activation)   (None, 24, 24, 32)        0         \n",
            "_________________________________________________________________\n",
            "max_pooling2d_10 (MaxPooling (None, 12, 12, 32)        0         \n",
            "_________________________________________________________________\n",
            "conv2d_43 (Conv2D)           (None, 10, 10, 64)        18496     \n",
            "_________________________________________________________________\n",
            "activation_40 (Activation)   (None, 10, 10, 64)        0         \n",
            "_________________________________________________________________\n",
            "conv2d_44 (Conv2D)           (None, 8, 8, 128)         73856     \n",
            "_________________________________________________________________\n",
            "activation_41 (Activation)   (None, 8, 8, 128)         0         \n",
            "_________________________________________________________________\n",
            "max_pooling2d_11 (MaxPooling (None, 4, 4, 128)         0         \n",
            "_________________________________________________________________\n",
            "conv2d_45 (Conv2D)           (None, 2, 2, 256)         295168    \n",
            "_________________________________________________________________\n",
            "activation_42 (Activation)   (None, 2, 2, 256)         0         \n",
            "_________________________________________________________________\n",
            "dropout_7 (Dropout)          (None, 2, 2, 256)         0         \n",
            "_________________________________________________________________\n",
            "flatten_7 (Flatten)          (None, 1024)              0         \n",
            "_________________________________________________________________\n",
            "dense_19 (Dense)             (None, 64)                65600     \n",
            "_________________________________________________________________\n",
            "dense_20 (Dense)             (None, 32)                2080      \n",
            "_________________________________________________________________\n",
            "dense_21 (Dense)             (None, 10)                330       \n",
            "=================================================================\n",
            "Total params: 460,330\n",
            "Trainable params: 460,330\n",
            "Non-trainable params: 0\n",
            "_________________________________________________________________\n"
          ],
          "name": "stdout"
        }
      ]
    },
    {
      "cell_type": "code",
      "metadata": {
        "id": "A_v7rUWqmE4C",
        "colab_type": "code",
        "outputId": "6bf79266-1ff4-4dc5-a668-308dcb2fddf9",
        "colab": {
          "base_uri": "https://localhost:8080/",
          "height": 492
        }
      },
      "source": [
        "model.compile(loss=keras.losses.categorical_crossentropy,\n",
        "             optimizer=keras.optimizers.Adam(), metrics=['accuracy'])\n",
        "model.fit(x_train, y_train,\n",
        "          batch_size=batch_size,\n",
        "          epochs=epoches,\n",
        "          verbose=1,\n",
        "          validation_data=(x_test, y_test))\n",
        "score = model.evaluate(x_test, y_test, verbose=0)\n",
        "print('Test loss:', score[0])\n",
        "print('Test accuracy:', score[1])"
      ],
      "execution_count": 0,
      "outputs": [
        {
          "output_type": "stream",
          "text": [
            "Train on 60000 samples, validate on 10000 samples\n",
            "Epoch 1/12\n",
            "60000/60000 [==============================] - 279s 5ms/step - loss: 0.2333 - acc: 0.9241 - val_loss: 0.0493 - val_acc: 0.9837\n",
            "Epoch 2/12\n",
            "60000/60000 [==============================] - 219s 4ms/step - loss: 0.0638 - acc: 0.9805 - val_loss: 0.0363 - val_acc: 0.9891\n",
            "Epoch 3/12\n",
            "60000/60000 [==============================] - 212s 4ms/step - loss: 0.0477 - acc: 0.9855 - val_loss: 0.0409 - val_acc: 0.9891\n",
            "Epoch 4/12\n",
            "60000/60000 [==============================] - 332s 6ms/step - loss: 0.0373 - acc: 0.9891 - val_loss: 0.0259 - val_acc: 0.9919\n",
            "Epoch 5/12\n",
            "60000/60000 [==============================] - 366s 6ms/step - loss: 0.0332 - acc: 0.9899 - val_loss: 0.0330 - val_acc: 0.9906\n",
            "Epoch 6/12\n",
            "60000/60000 [==============================] - 343s 6ms/step - loss: 0.0311 - acc: 0.9906 - val_loss: 0.0272 - val_acc: 0.9920\n",
            "Epoch 7/12\n",
            "60000/60000 [==============================] - 354s 6ms/step - loss: 0.0280 - acc: 0.9916 - val_loss: 0.0446 - val_acc: 0.9846\n",
            "Epoch 8/12\n",
            "60000/60000 [==============================] - 280s 5ms/step - loss: 0.0234 - acc: 0.9933 - val_loss: 0.0314 - val_acc: 0.9930\n",
            "Epoch 9/12\n",
            "60000/60000 [==============================] - 250s 4ms/step - loss: 0.0222 - acc: 0.9936 - val_loss: 0.0248 - val_acc: 0.9932\n",
            "Epoch 10/12\n",
            "60000/60000 [==============================] - 279s 5ms/step - loss: 0.0210 - acc: 0.9941 - val_loss: 0.0356 - val_acc: 0.9912\n",
            "Epoch 11/12\n",
            "60000/60000 [==============================] - 304s 5ms/step - loss: 0.0211 - acc: 0.9940 - val_loss: 0.0434 - val_acc: 0.9904\n",
            "Epoch 12/12\n",
            "60000/60000 [==============================] - 353s 6ms/step - loss: 0.0273 - acc: 0.9932 - val_loss: 0.0422 - val_acc: 0.9900\n",
            "Test loss: 0.042203018932609845\n",
            "Test accuracy: 0.99\n"
          ],
          "name": "stdout"
        }
      ]
    },
    {
      "cell_type": "markdown",
      "metadata": {
        "id": "5lrB7PoBV52K",
        "colab_type": "text"
      },
      "source": [
        "**With 2 Max pooling**"
      ]
    },
    {
      "cell_type": "code",
      "metadata": {
        "id": "a3Ok9yalr3ip",
        "colab_type": "code",
        "outputId": "7714d006-49dd-4cae-d479-af719f96f5b7",
        "colab": {
          "base_uri": "https://localhost:8080/",
          "height": 738
        }
      },
      "source": [
        "model = Sequential()\n",
        "\n",
        "model.add(Conv2D(6, kernel_size=(3, 3), padding='valid', input_shape=input_shape))\n",
        "model.add(Activation('relu'))\n",
        "model.add(Conv2D(8, kernel_size=(5, 5), padding='valid', input_shape=input_shape))\n",
        "model.add(Activation('relu'))\n",
        "model.add(MaxPooling2D(pool_size=(2, 2)))\n",
        "\n",
        "model.add(Conv2D(12, kernel_size=(4, 4), padding='valid', input_shape=input_shape))\n",
        "model.add(Activation('relu'))\n",
        "model.add(Conv2D(16, kernel_size=(6, 6), padding='same', input_shape=input_shape))\n",
        "model.add(Activation('relu'))\n",
        "model.add(MaxPooling2D(pool_size=(2, 2)))\n",
        "\n",
        "model.add(Conv2D(20, kernel_size=(3, 3), input_shape=input_shape))\n",
        "model.add(Activation('relu'))\n",
        "\n",
        "\n",
        "\n",
        "model.add(Dropout(0.25))\n",
        "model.add(Flatten())\n",
        "model.add(Dense(64, activation='relu'))\n",
        "model.add(Dense(32, activation='relu'))\n",
        "model.add(Dense(num_classes, activation='softmax'))\n",
        "\n",
        "model.summary()"
      ],
      "execution_count": 0,
      "outputs": [
        {
          "output_type": "stream",
          "text": [
            "_________________________________________________________________\n",
            "Layer (type)                 Output Shape              Param #   \n",
            "=================================================================\n",
            "conv2d_17 (Conv2D)           (None, 26, 26, 6)         60        \n",
            "_________________________________________________________________\n",
            "activation_15 (Activation)   (None, 26, 26, 6)         0         \n",
            "_________________________________________________________________\n",
            "conv2d_18 (Conv2D)           (None, 22, 22, 8)         1208      \n",
            "_________________________________________________________________\n",
            "activation_16 (Activation)   (None, 22, 22, 8)         0         \n",
            "_________________________________________________________________\n",
            "max_pooling2d_3 (MaxPooling2 (None, 11, 11, 8)         0         \n",
            "_________________________________________________________________\n",
            "conv2d_19 (Conv2D)           (None, 8, 8, 12)          1548      \n",
            "_________________________________________________________________\n",
            "activation_17 (Activation)   (None, 8, 8, 12)          0         \n",
            "_________________________________________________________________\n",
            "conv2d_20 (Conv2D)           (None, 8, 8, 16)          6928      \n",
            "_________________________________________________________________\n",
            "activation_18 (Activation)   (None, 8, 8, 16)          0         \n",
            "_________________________________________________________________\n",
            "max_pooling2d_4 (MaxPooling2 (None, 4, 4, 16)          0         \n",
            "_________________________________________________________________\n",
            "conv2d_21 (Conv2D)           (None, 2, 2, 20)          2900      \n",
            "_________________________________________________________________\n",
            "activation_19 (Activation)   (None, 2, 2, 20)          0         \n",
            "_________________________________________________________________\n",
            "dropout_3 (Dropout)          (None, 2, 2, 20)          0         \n",
            "_________________________________________________________________\n",
            "flatten_3 (Flatten)          (None, 80)                0         \n",
            "_________________________________________________________________\n",
            "dense_7 (Dense)              (None, 64)                5184      \n",
            "_________________________________________________________________\n",
            "dense_8 (Dense)              (None, 32)                2080      \n",
            "_________________________________________________________________\n",
            "dense_9 (Dense)              (None, 10)                330       \n",
            "=================================================================\n",
            "Total params: 20,238\n",
            "Trainable params: 20,238\n",
            "Non-trainable params: 0\n",
            "_________________________________________________________________\n"
          ],
          "name": "stdout"
        }
      ]
    },
    {
      "cell_type": "code",
      "metadata": {
        "id": "iMsaWvMJdQe3",
        "colab_type": "code",
        "outputId": "d284df49-0924-44e5-9a4e-f994df7f02e1",
        "colab": {
          "base_uri": "https://localhost:8080/",
          "height": 492
        }
      },
      "source": [
        "model.compile(loss=keras.losses.categorical_crossentropy,\n",
        "             optimizer=keras.optimizers.Adam(), metrics=['accuracy'])\n",
        "model.fit(x_train, y_train,\n",
        "          batch_size=batch_size,\n",
        "          epochs=epoches,\n",
        "          verbose=1,\n",
        "          validation_data=(x_test, y_test))\n",
        "score = model.evaluate(x_test, y_test, verbose=0)\n",
        "print('Test loss:', score[0])\n",
        "print('Test accuracy:', score[1])"
      ],
      "execution_count": 0,
      "outputs": [
        {
          "output_type": "stream",
          "text": [
            "Train on 60000 samples, validate on 10000 samples\n",
            "Epoch 1/12\n",
            "60000/60000 [==============================] - 63s 1ms/step - loss: 0.4768 - acc: 0.8443 - val_loss: 0.1243 - val_acc: 0.9597\n",
            "Epoch 2/12\n",
            "60000/60000 [==============================] - 62s 1ms/step - loss: 0.1487 - acc: 0.9549 - val_loss: 0.0825 - val_acc: 0.9758\n",
            "Epoch 3/12\n",
            "60000/60000 [==============================] - 62s 1ms/step - loss: 0.1054 - acc: 0.9680 - val_loss: 0.0698 - val_acc: 0.9771\n",
            "Epoch 4/12\n",
            "60000/60000 [==============================] - 62s 1ms/step - loss: 0.0842 - acc: 0.9743 - val_loss: 0.0554 - val_acc: 0.9832\n",
            "Epoch 5/12\n",
            "60000/60000 [==============================] - 62s 1ms/step - loss: 0.0716 - acc: 0.9784 - val_loss: 0.0481 - val_acc: 0.9854\n",
            "Epoch 6/12\n",
            "60000/60000 [==============================] - 62s 1ms/step - loss: 0.0625 - acc: 0.9807 - val_loss: 0.0427 - val_acc: 0.9853\n",
            "Epoch 7/12\n",
            "60000/60000 [==============================] - 62s 1ms/step - loss: 0.0559 - acc: 0.9832 - val_loss: 0.0444 - val_acc: 0.9875\n",
            "Epoch 8/12\n",
            "60000/60000 [==============================] - 62s 1ms/step - loss: 0.0502 - acc: 0.9846 - val_loss: 0.0446 - val_acc: 0.9878\n",
            "Epoch 9/12\n",
            "60000/60000 [==============================] - 62s 1ms/step - loss: 0.0484 - acc: 0.9851 - val_loss: 0.0446 - val_acc: 0.9876\n",
            "Epoch 10/12\n",
            "60000/60000 [==============================] - 62s 1ms/step - loss: 0.0423 - acc: 0.9868 - val_loss: 0.0353 - val_acc: 0.9902\n",
            "Epoch 11/12\n",
            "60000/60000 [==============================] - 62s 1ms/step - loss: 0.0399 - acc: 0.9873 - val_loss: 0.0485 - val_acc: 0.9860\n",
            "Epoch 12/12\n",
            "60000/60000 [==============================] - 62s 1ms/step - loss: 0.0363 - acc: 0.9890 - val_loss: 0.0339 - val_acc: 0.9908\n",
            "Test loss: 0.03387403287950856\n",
            "Test accuracy: 0.9908\n"
          ],
          "name": "stdout"
        }
      ]
    },
    {
      "cell_type": "markdown",
      "metadata": {
        "id": "ra2pIvVJBfl0",
        "colab_type": "text"
      },
      "source": [
        "Some Kernal with (1, 1)"
      ]
    },
    {
      "cell_type": "code",
      "metadata": {
        "id": "HHRmxWL4INJ5",
        "colab_type": "code",
        "outputId": "e20e665c-821a-4565-9a67-350ffe018f98",
        "colab": {
          "base_uri": "https://localhost:8080/",
          "height": 756
        }
      },
      "source": [
        "model = Sequential()\n",
        "\n",
        "model.add(Conv2D(32, kernel_size=(1, 1), padding='valid', input_shape=input_shape))\n",
        "model.add(Activation('relu'))\n",
        "model.add(Conv2D(32, kernel_size=(3, 3), padding='valid', input_shape=input_shape))\n",
        "model.add(Activation('relu'))\n",
        "model.add(MaxPooling2D(pool_size=(2, 2)))\n",
        "\n",
        "model.add(Conv2D(32, kernel_size=(1, 1), padding='valid', input_shape=input_shape))\n",
        "model.add(Activation('relu'))\n",
        "model.add(Conv2D(64, kernel_size=(3, 3), padding='valid', input_shape=input_shape))\n",
        "model.add(Activation('relu'))\n",
        "model.add(MaxPooling2D(pool_size=(2, 2)))\n",
        "\n",
        "model.add(Conv2D(64, kernel_size=(1, 1), input_shape=input_shape))\n",
        "model.add(Activation('relu'))\n",
        "\n",
        "\n",
        "\n",
        "model.add(Dropout(0.25))\n",
        "model.add(Flatten())\n",
        "model.add(Dense(1024, activation='relu'))\n",
        "model.add(Dense(2048, activation='relu'))\n",
        "model.add(Dense(num_classes, activation='softmax'))\n",
        "\n",
        "model.summary()"
      ],
      "execution_count": 0,
      "outputs": [
        {
          "output_type": "stream",
          "text": [
            "Model: \"sequential_3\"\n",
            "_________________________________________________________________\n",
            "Layer (type)                 Output Shape              Param #   \n",
            "=================================================================\n",
            "conv2d_8 (Conv2D)            (None, 28, 28, 32)        64        \n",
            "_________________________________________________________________\n",
            "activation_6 (Activation)    (None, 28, 28, 32)        0         \n",
            "_________________________________________________________________\n",
            "conv2d_9 (Conv2D)            (None, 26, 26, 32)        9248      \n",
            "_________________________________________________________________\n",
            "activation_7 (Activation)    (None, 26, 26, 32)        0         \n",
            "_________________________________________________________________\n",
            "max_pooling2d_4 (MaxPooling2 (None, 13, 13, 32)        0         \n",
            "_________________________________________________________________\n",
            "conv2d_10 (Conv2D)           (None, 13, 13, 32)        1056      \n",
            "_________________________________________________________________\n",
            "activation_8 (Activation)    (None, 13, 13, 32)        0         \n",
            "_________________________________________________________________\n",
            "conv2d_11 (Conv2D)           (None, 11, 11, 64)        18496     \n",
            "_________________________________________________________________\n",
            "activation_9 (Activation)    (None, 11, 11, 64)        0         \n",
            "_________________________________________________________________\n",
            "max_pooling2d_5 (MaxPooling2 (None, 5, 5, 64)          0         \n",
            "_________________________________________________________________\n",
            "conv2d_12 (Conv2D)           (None, 5, 5, 64)          4160      \n",
            "_________________________________________________________________\n",
            "activation_10 (Activation)   (None, 5, 5, 64)          0         \n",
            "_________________________________________________________________\n",
            "dropout_4 (Dropout)          (None, 5, 5, 64)          0         \n",
            "_________________________________________________________________\n",
            "flatten_3 (Flatten)          (None, 1600)              0         \n",
            "_________________________________________________________________\n",
            "dense_6 (Dense)              (None, 1024)              1639424   \n",
            "_________________________________________________________________\n",
            "dense_7 (Dense)              (None, 2048)              2099200   \n",
            "_________________________________________________________________\n",
            "dense_8 (Dense)              (None, 10)                20490     \n",
            "=================================================================\n",
            "Total params: 3,792,138\n",
            "Trainable params: 3,792,138\n",
            "Non-trainable params: 0\n",
            "_________________________________________________________________\n"
          ],
          "name": "stdout"
        }
      ]
    },
    {
      "cell_type": "code",
      "metadata": {
        "id": "qAa43yVRJHJ4",
        "colab_type": "code",
        "outputId": "a4adfe85-8fbe-4880-dc32-8a3f525fa84a",
        "colab": {
          "base_uri": "https://localhost:8080/",
          "height": 492
        }
      },
      "source": [
        "model.compile(loss=keras.losses.categorical_crossentropy,\n",
        "             optimizer=keras.optimizers.Adam(), metrics=['accuracy'])\n",
        "model.fit(x_train, y_train,\n",
        "          batch_size=batch_size,\n",
        "          epochs=epoches,\n",
        "          verbose=1,\n",
        "          validation_data=(x_test, y_test))\n",
        "score = model.evaluate(x_test, y_test, verbose=0)\n",
        "print('Test loss:', score[0])\n",
        "print('Test accuracy:', score[1])"
      ],
      "execution_count": 0,
      "outputs": [
        {
          "output_type": "stream",
          "text": [
            "Train on 60000 samples, validate on 10000 samples\n",
            "Epoch 1/12\n",
            "60000/60000 [==============================] - 188s 3ms/step - loss: 0.1722 - acc: 0.9453 - val_loss: 0.0427 - val_acc: 0.9860\n",
            "Epoch 2/12\n",
            "60000/60000 [==============================] - 187s 3ms/step - loss: 0.0510 - acc: 0.9843 - val_loss: 0.0342 - val_acc: 0.9888\n",
            "Epoch 3/12\n",
            "60000/60000 [==============================] - 186s 3ms/step - loss: 0.0388 - acc: 0.9879 - val_loss: 0.0371 - val_acc: 0.9880\n",
            "Epoch 4/12\n",
            "60000/60000 [==============================] - 186s 3ms/step - loss: 0.0311 - acc: 0.9906 - val_loss: 0.0299 - val_acc: 0.9906\n",
            "Epoch 5/12\n",
            "60000/60000 [==============================] - 189s 3ms/step - loss: 0.0229 - acc: 0.9931 - val_loss: 0.0373 - val_acc: 0.9889\n",
            "Epoch 6/12\n",
            "60000/60000 [==============================] - 190s 3ms/step - loss: 0.0244 - acc: 0.9923 - val_loss: 0.0290 - val_acc: 0.9904\n",
            "Epoch 7/12\n",
            "60000/60000 [==============================] - 190s 3ms/step - loss: 0.0204 - acc: 0.9939 - val_loss: 0.0370 - val_acc: 0.9902\n",
            "Epoch 8/12\n",
            "60000/60000 [==============================] - 189s 3ms/step - loss: 0.0190 - acc: 0.9940 - val_loss: 0.0337 - val_acc: 0.9908\n",
            "Epoch 9/12\n",
            "60000/60000 [==============================] - 190s 3ms/step - loss: 0.0162 - acc: 0.9951 - val_loss: 0.0355 - val_acc: 0.9915\n",
            "Epoch 10/12\n",
            "60000/60000 [==============================] - 189s 3ms/step - loss: 0.0145 - acc: 0.9956 - val_loss: 0.0326 - val_acc: 0.9920\n",
            "Epoch 11/12\n",
            "60000/60000 [==============================] - 188s 3ms/step - loss: 0.0153 - acc: 0.9955 - val_loss: 0.0289 - val_acc: 0.9931\n",
            "Epoch 12/12\n",
            "60000/60000 [==============================] - 188s 3ms/step - loss: 0.0117 - acc: 0.9964 - val_loss: 0.0365 - val_acc: 0.9911\n",
            "Test loss: 0.03646310471767674\n",
            "Test accuracy: 0.9911\n"
          ],
          "name": "stdout"
        }
      ]
    },
    {
      "cell_type": "markdown",
      "metadata": {
        "id": "PLsoFi_WSoio",
        "colab_type": "text"
      },
      "source": [
        "# **Task 3**\n",
        "\n",
        "7 Convolution Layers"
      ]
    },
    {
      "cell_type": "code",
      "metadata": {
        "id": "l83drPISSrRq",
        "colab_type": "code",
        "colab": {}
      },
      "source": [
        ""
      ],
      "execution_count": 0,
      "outputs": []
    },
    {
      "cell_type": "code",
      "metadata": {
        "id": "Umr24UHKhtET",
        "colab_type": "code",
        "outputId": "aaa348a9-3374-40f0-96d0-402f181126c2",
        "colab": {
          "base_uri": "https://localhost:8080/",
          "height": 897
        }
      },
      "source": [
        "model = Sequential()\n",
        "\n",
        "model.add(Conv2D(6, kernel_size=(3, 3), padding='valid', input_shape=input_shape))\n",
        "model.add(Activation('relu'))\n",
        "model.add(Conv2D(8, kernel_size=(4, 4), padding='valid', input_shape=input_shape))\n",
        "model.add(Activation('relu'))\n",
        "model.add(MaxPooling2D(pool_size=(2, 2)))\n",
        "\n",
        "model.add(Conv2D(12, kernel_size=(5, 5), padding='same', input_shape=input_shape))\n",
        "model.add(Activation('relu'))\n",
        "model.add(Conv2D(16, kernel_size=(6, 6), padding='same', input_shape=input_shape))\n",
        "model.add(Activation('relu'))\n",
        "model.add(MaxPooling2D(pool_size=(2, 2)))\n",
        "\n",
        "model.add(Conv2D(8, kernel_size=(2, 2), padding='same', input_shape=input_shape))\n",
        "model.add(Activation('relu'))\n",
        "model.add(Conv2D(10, kernel_size=(3, 3), padding='same', input_shape=input_shape))\n",
        "model.add(Activation('relu'))\n",
        "\n",
        "model.add(Conv2D(12, kernel_size=(4, 4), input_shape=input_shape))\n",
        "model.add(Activation('relu'))\n",
        "\n",
        "\n",
        "\n",
        "model.add(Dropout(0.25))\n",
        "model.add(Flatten())\n",
        "model.add(Dense(64, activation='relu'))\n",
        "model.add(Dense(32, activation='relu'))\n",
        "model.add(Dense(num_classes, activation='softmax'))\n",
        "\n",
        "model.summary()"
      ],
      "execution_count": 0,
      "outputs": [
        {
          "output_type": "stream",
          "text": [
            "Model: \"sequential_9\"\n",
            "_________________________________________________________________\n",
            "Layer (type)                 Output Shape              Param #   \n",
            "=================================================================\n",
            "conv2d_47 (Conv2D)           (None, 26, 26, 6)         60        \n",
            "_________________________________________________________________\n",
            "activation_41 (Activation)   (None, 26, 26, 6)         0         \n",
            "_________________________________________________________________\n",
            "conv2d_48 (Conv2D)           (None, 23, 23, 8)         776       \n",
            "_________________________________________________________________\n",
            "activation_42 (Activation)   (None, 23, 23, 8)         0         \n",
            "_________________________________________________________________\n",
            "max_pooling2d_16 (MaxPooling (None, 11, 11, 8)         0         \n",
            "_________________________________________________________________\n",
            "conv2d_49 (Conv2D)           (None, 11, 11, 12)        2412      \n",
            "_________________________________________________________________\n",
            "activation_43 (Activation)   (None, 11, 11, 12)        0         \n",
            "_________________________________________________________________\n",
            "conv2d_50 (Conv2D)           (None, 11, 11, 16)        6928      \n",
            "_________________________________________________________________\n",
            "activation_44 (Activation)   (None, 11, 11, 16)        0         \n",
            "_________________________________________________________________\n",
            "max_pooling2d_17 (MaxPooling (None, 5, 5, 16)          0         \n",
            "_________________________________________________________________\n",
            "conv2d_51 (Conv2D)           (None, 5, 5, 8)           520       \n",
            "_________________________________________________________________\n",
            "activation_45 (Activation)   (None, 5, 5, 8)           0         \n",
            "_________________________________________________________________\n",
            "conv2d_52 (Conv2D)           (None, 5, 5, 10)          730       \n",
            "_________________________________________________________________\n",
            "activation_46 (Activation)   (None, 5, 5, 10)          0         \n",
            "_________________________________________________________________\n",
            "conv2d_53 (Conv2D)           (None, 2, 2, 12)          1932      \n",
            "_________________________________________________________________\n",
            "activation_47 (Activation)   (None, 2, 2, 12)          0         \n",
            "_________________________________________________________________\n",
            "dropout_6 (Dropout)          (None, 2, 2, 12)          0         \n",
            "_________________________________________________________________\n",
            "flatten_5 (Flatten)          (None, 48)                0         \n",
            "_________________________________________________________________\n",
            "dense_12 (Dense)             (None, 64)                3136      \n",
            "_________________________________________________________________\n",
            "dense_13 (Dense)             (None, 32)                2080      \n",
            "_________________________________________________________________\n",
            "dense_14 (Dense)             (None, 10)                330       \n",
            "=================================================================\n",
            "Total params: 18,904\n",
            "Trainable params: 18,904\n",
            "Non-trainable params: 0\n",
            "_________________________________________________________________\n"
          ],
          "name": "stdout"
        }
      ]
    },
    {
      "cell_type": "code",
      "metadata": {
        "id": "M1DW0se4iDSR",
        "colab_type": "code",
        "outputId": "fa1c2cd9-deb4-44bd-ebe1-d81433609e3c",
        "colab": {
          "base_uri": "https://localhost:8080/",
          "height": 492
        }
      },
      "source": [
        "model.compile(loss=keras.losses.categorical_crossentropy,\n",
        "             optimizer=keras.optimizers.Adam(), metrics=['accuracy'])\n",
        "model.fit(x_train, y_train,\n",
        "          batch_size=batch_size,\n",
        "          epochs=epoches,\n",
        "          verbose=1,\n",
        "          validation_data=(x_test, y_test))\n",
        "score = model.evaluate(x_test, y_test, verbose=0)\n",
        "print('Test loss:', score[0])\n",
        "print('Test accuracy:', score[1])"
      ],
      "execution_count": 0,
      "outputs": [
        {
          "output_type": "stream",
          "text": [
            "Train on 60000 samples, validate on 10000 samples\n",
            "Epoch 1/12\n",
            "60000/60000 [==============================] - 68s 1ms/step - loss: 0.6502 - acc: 0.7824 - val_loss: 0.1623 - val_acc: 0.9523\n",
            "Epoch 2/12\n",
            "60000/60000 [==============================] - 67s 1ms/step - loss: 0.2049 - acc: 0.9388 - val_loss: 0.1182 - val_acc: 0.9665\n",
            "Epoch 3/12\n",
            "60000/60000 [==============================] - 68s 1ms/step - loss: 0.1491 - acc: 0.9558 - val_loss: 0.0767 - val_acc: 0.9772\n",
            "Epoch 4/12\n",
            "60000/60000 [==============================] - 68s 1ms/step - loss: 0.1174 - acc: 0.9652 - val_loss: 0.0689 - val_acc: 0.9798\n",
            "Epoch 5/12\n",
            "60000/60000 [==============================] - 68s 1ms/step - loss: 0.1056 - acc: 0.9692 - val_loss: 0.0605 - val_acc: 0.9817\n",
            "Epoch 6/12\n",
            "60000/60000 [==============================] - 68s 1ms/step - loss: 0.0877 - acc: 0.9739 - val_loss: 0.0518 - val_acc: 0.9844\n",
            "Epoch 7/12\n",
            "60000/60000 [==============================] - 68s 1ms/step - loss: 0.0791 - acc: 0.9760 - val_loss: 0.0571 - val_acc: 0.9831\n",
            "Epoch 8/12\n",
            "60000/60000 [==============================] - 68s 1ms/step - loss: 0.0752 - acc: 0.9781 - val_loss: 0.0510 - val_acc: 0.9860\n",
            "Epoch 9/12\n",
            "60000/60000 [==============================] - 68s 1ms/step - loss: 0.0694 - acc: 0.9794 - val_loss: 0.0434 - val_acc: 0.9883\n",
            "Epoch 10/12\n",
            "60000/60000 [==============================] - 67s 1ms/step - loss: 0.0597 - acc: 0.9821 - val_loss: 0.0459 - val_acc: 0.9862\n",
            "Epoch 11/12\n",
            "60000/60000 [==============================] - 68s 1ms/step - loss: 0.0590 - acc: 0.9825 - val_loss: 0.0434 - val_acc: 0.9879\n",
            "Epoch 12/12\n",
            "60000/60000 [==============================] - 68s 1ms/step - loss: 0.0543 - acc: 0.9838 - val_loss: 0.0551 - val_acc: 0.9851\n",
            "Test loss: 0.05505837766346522\n",
            "Test accuracy: 0.9851\n"
          ],
          "name": "stdout"
        }
      ]
    },
    {
      "cell_type": "markdown",
      "metadata": {
        "id": "Uzt3jO9_BUjR",
        "colab_type": "text"
      },
      "source": [
        "Same Kernal (3, 3)"
      ]
    },
    {
      "cell_type": "code",
      "metadata": {
        "id": "5pvaB2PqiGL_",
        "colab_type": "code",
        "outputId": "3538143c-a57b-4628-e3a7-e1d35f9e44e6",
        "colab": {
          "base_uri": "https://localhost:8080/",
          "height": 897
        }
      },
      "source": [
        "model = Sequential()\n",
        "\n",
        "model.add(Conv2D(10, kernel_size=(3, 3), padding='valid', input_shape=input_shape))\n",
        "model.add(Activation('relu'))\n",
        "model.add(Conv2D(20, kernel_size=(3, 3), padding='valid', input_shape=input_shape))\n",
        "model.add(Activation('relu'))\n",
        "model.add(MaxPooling2D(pool_size=(2, 2)))\n",
        "\n",
        "model.add(Conv2D(30, kernel_size=(3, 3), padding='same', input_shape=input_shape))\n",
        "model.add(Activation('relu'))\n",
        "model.add(Conv2D(40, kernel_size=(3, 3), padding='same', input_shape=input_shape))\n",
        "model.add(Activation('relu'))\n",
        "model.add(Conv2D(50, kernel_size=(3, 3), padding='same', input_shape=input_shape))\n",
        "model.add(Activation('relu'))\n",
        "model.add(MaxPooling2D(pool_size=(2, 2)))\n",
        "\n",
        "model.add(Conv2D(60, kernel_size=(3, 3), padding='valid', input_shape=input_shape))\n",
        "model.add(Activation('relu'))\n",
        "model.add(Conv2D(70, kernel_size=(3, 3), input_shape=input_shape))\n",
        "model.add(Activation('relu'))\n",
        "\n",
        "\n",
        "\n",
        "model.add(Dropout(0.25))\n",
        "model.add(Flatten())\n",
        "model.add(Dense(512, activation='relu'))\n",
        "model.add(Dense(1024, activation='relu'))\n",
        "model.add(Dense(num_classes, activation='softmax'))\n",
        "\n",
        "model.summary()"
      ],
      "execution_count": 0,
      "outputs": [
        {
          "output_type": "stream",
          "text": [
            "Model: \"sequential_13\"\n",
            "_________________________________________________________________\n",
            "Layer (type)                 Output Shape              Param #   \n",
            "=================================================================\n",
            "conv2d_75 (Conv2D)           (None, 26, 26, 10)        100       \n",
            "_________________________________________________________________\n",
            "activation_69 (Activation)   (None, 26, 26, 10)        0         \n",
            "_________________________________________________________________\n",
            "conv2d_76 (Conv2D)           (None, 24, 24, 20)        1820      \n",
            "_________________________________________________________________\n",
            "activation_70 (Activation)   (None, 24, 24, 20)        0         \n",
            "_________________________________________________________________\n",
            "max_pooling2d_24 (MaxPooling (None, 12, 12, 20)        0         \n",
            "_________________________________________________________________\n",
            "conv2d_77 (Conv2D)           (None, 12, 12, 30)        5430      \n",
            "_________________________________________________________________\n",
            "activation_71 (Activation)   (None, 12, 12, 30)        0         \n",
            "_________________________________________________________________\n",
            "conv2d_78 (Conv2D)           (None, 12, 12, 40)        10840     \n",
            "_________________________________________________________________\n",
            "activation_72 (Activation)   (None, 12, 12, 40)        0         \n",
            "_________________________________________________________________\n",
            "conv2d_79 (Conv2D)           (None, 12, 12, 50)        18050     \n",
            "_________________________________________________________________\n",
            "activation_73 (Activation)   (None, 12, 12, 50)        0         \n",
            "_________________________________________________________________\n",
            "max_pooling2d_25 (MaxPooling (None, 6, 6, 50)          0         \n",
            "_________________________________________________________________\n",
            "conv2d_80 (Conv2D)           (None, 4, 4, 60)          27060     \n",
            "_________________________________________________________________\n",
            "activation_74 (Activation)   (None, 4, 4, 60)          0         \n",
            "_________________________________________________________________\n",
            "conv2d_81 (Conv2D)           (None, 2, 2, 70)          37870     \n",
            "_________________________________________________________________\n",
            "activation_75 (Activation)   (None, 2, 2, 70)          0         \n",
            "_________________________________________________________________\n",
            "dropout_10 (Dropout)         (None, 2, 2, 70)          0         \n",
            "_________________________________________________________________\n",
            "flatten_9 (Flatten)          (None, 280)               0         \n",
            "_________________________________________________________________\n",
            "dense_24 (Dense)             (None, 512)               143872    \n",
            "_________________________________________________________________\n",
            "dense_25 (Dense)             (None, 1024)              525312    \n",
            "_________________________________________________________________\n",
            "dense_26 (Dense)             (None, 10)                10250     \n",
            "=================================================================\n",
            "Total params: 780,604\n",
            "Trainable params: 780,604\n",
            "Non-trainable params: 0\n",
            "_________________________________________________________________\n"
          ],
          "name": "stdout"
        }
      ]
    },
    {
      "cell_type": "code",
      "metadata": {
        "id": "3ydXMzFMXddL",
        "colab_type": "code",
        "outputId": "12c8b210-a1b6-4917-b34b-a39827c70785",
        "colab": {
          "base_uri": "https://localhost:8080/",
          "height": 492
        }
      },
      "source": [
        "model.compile(loss=keras.losses.categorical_crossentropy,\n",
        "             optimizer=keras.optimizers.Adam(), metrics=['accuracy'])\n",
        "model.fit(x_train, y_train,\n",
        "          batch_size=batch_size,\n",
        "          epochs=epoches,\n",
        "          verbose=1,\n",
        "          validation_data=(x_test, y_test))\n",
        "score = model.evaluate(x_test, y_test, verbose=0)\n",
        "print('Test loss:', score[0])\n",
        "print('Test accuracy:', score[1])"
      ],
      "execution_count": 0,
      "outputs": [
        {
          "output_type": "stream",
          "text": [
            "Train on 60000 samples, validate on 10000 samples\n",
            "Epoch 1/12\n",
            "60000/60000 [==============================] - 131s 2ms/step - loss: 0.2329 - acc: 0.9237 - val_loss: 0.0523 - val_acc: 0.9847\n",
            "Epoch 2/12\n",
            "60000/60000 [==============================] - 130s 2ms/step - loss: 0.0656 - acc: 0.9796 - val_loss: 0.0372 - val_acc: 0.9885\n",
            "Epoch 3/12\n",
            "60000/60000 [==============================] - 130s 2ms/step - loss: 0.0453 - acc: 0.9859 - val_loss: 0.0400 - val_acc: 0.9886\n",
            "Epoch 4/12\n",
            "60000/60000 [==============================] - 130s 2ms/step - loss: 0.0386 - acc: 0.9890 - val_loss: 0.0288 - val_acc: 0.9904\n",
            "Epoch 5/12\n",
            "60000/60000 [==============================] - 130s 2ms/step - loss: 0.0344 - acc: 0.9896 - val_loss: 0.0371 - val_acc: 0.9891\n",
            "Epoch 6/12\n",
            "60000/60000 [==============================] - 130s 2ms/step - loss: 0.0309 - acc: 0.9907 - val_loss: 0.0236 - val_acc: 0.9933\n",
            "Epoch 7/12\n",
            "60000/60000 [==============================] - 131s 2ms/step - loss: 0.0249 - acc: 0.9925 - val_loss: 0.0348 - val_acc: 0.9904\n",
            "Epoch 8/12\n",
            "60000/60000 [==============================] - 131s 2ms/step - loss: 0.0235 - acc: 0.9930 - val_loss: 0.0302 - val_acc: 0.9913\n",
            "Epoch 9/12\n",
            "60000/60000 [==============================] - 130s 2ms/step - loss: 0.0230 - acc: 0.9933 - val_loss: 0.0273 - val_acc: 0.9928\n",
            "Epoch 10/12\n",
            "60000/60000 [==============================] - 130s 2ms/step - loss: 0.0235 - acc: 0.9934 - val_loss: 0.0428 - val_acc: 0.9896\n",
            "Epoch 11/12\n",
            "60000/60000 [==============================] - 130s 2ms/step - loss: 0.0198 - acc: 0.9940 - val_loss: 0.0238 - val_acc: 0.9939\n",
            "Epoch 12/12\n",
            "60000/60000 [==============================] - 130s 2ms/step - loss: 0.0169 - acc: 0.9949 - val_loss: 0.0317 - val_acc: 0.9907\n",
            "Test loss: 0.031733074819948935\n",
            "Test accuracy: 0.9907\n"
          ],
          "name": "stdout"
        }
      ]
    },
    {
      "cell_type": "markdown",
      "metadata": {
        "id": "HnN_MeblBMww",
        "colab_type": "text"
      },
      "source": [
        "Some kernal with (1, 1) Size"
      ]
    },
    {
      "cell_type": "code",
      "metadata": {
        "id": "jihsG1-AY8hm",
        "colab_type": "code",
        "outputId": "d39baf67-5ac3-4daa-d61a-0414b98a5f1f",
        "colab": {
          "base_uri": "https://localhost:8080/",
          "height": 897
        }
      },
      "source": [
        "model = Sequential()\n",
        "\n",
        "model.add(Conv2D(8, kernel_size=(3, 3), padding='valid', input_shape=input_shape))\n",
        "model.add(Activation('relu'))\n",
        "model.add(Conv2D(16, kernel_size=(1, 1), padding='valid', input_shape=input_shape))\n",
        "model.add(Activation('relu'))\n",
        "model.add(MaxPooling2D(pool_size=(2, 2)))\n",
        "\n",
        "model.add(Conv2D(32, kernel_size=(3, 3), input_shape=input_shape))\n",
        "model.add(Activation('relu'))\n",
        "model.add(Conv2D(64, kernel_size=(1, 1), padding='same', input_shape=input_shape))\n",
        "model.add(Activation('relu'))\n",
        "model.add(Conv2D(128, kernel_size=(3, 3), input_shape=input_shape))\n",
        "model.add(Activation('relu'))\n",
        "model.add(MaxPooling2D(pool_size=(2, 2)))\n",
        "\n",
        "model.add(Conv2D(128, kernel_size=(1, 1),  input_shape=input_shape))\n",
        "model.add(Activation('relu'))\n",
        "model.add(Conv2D(148, kernel_size=(3, 3), input_shape=input_shape))\n",
        "model.add(Activation('relu'))\n",
        "\n",
        "\n",
        "\n",
        "model.add(Dropout(0.25))\n",
        "model.add(Flatten())\n",
        "model.add(Dense(512, activation='relu'))\n",
        "model.add(Dense(1024, activation='relu'))\n",
        "model.add(Dense(num_classes, activation='softmax'))\n",
        "\n",
        "model.summary()"
      ],
      "execution_count": 0,
      "outputs": [
        {
          "output_type": "stream",
          "text": [
            "Model: \"sequential_17\"\n",
            "_________________________________________________________________\n",
            "Layer (type)                 Output Shape              Param #   \n",
            "=================================================================\n",
            "conv2d_103 (Conv2D)          (None, 26, 26, 8)         80        \n",
            "_________________________________________________________________\n",
            "activation_97 (Activation)   (None, 26, 26, 8)         0         \n",
            "_________________________________________________________________\n",
            "conv2d_104 (Conv2D)          (None, 26, 26, 16)        144       \n",
            "_________________________________________________________________\n",
            "activation_98 (Activation)   (None, 26, 26, 16)        0         \n",
            "_________________________________________________________________\n",
            "max_pooling2d_32 (MaxPooling (None, 13, 13, 16)        0         \n",
            "_________________________________________________________________\n",
            "conv2d_105 (Conv2D)          (None, 11, 11, 32)        4640      \n",
            "_________________________________________________________________\n",
            "activation_99 (Activation)   (None, 11, 11, 32)        0         \n",
            "_________________________________________________________________\n",
            "conv2d_106 (Conv2D)          (None, 11, 11, 64)        2112      \n",
            "_________________________________________________________________\n",
            "activation_100 (Activation)  (None, 11, 11, 64)        0         \n",
            "_________________________________________________________________\n",
            "conv2d_107 (Conv2D)          (None, 9, 9, 128)         73856     \n",
            "_________________________________________________________________\n",
            "activation_101 (Activation)  (None, 9, 9, 128)         0         \n",
            "_________________________________________________________________\n",
            "max_pooling2d_33 (MaxPooling (None, 4, 4, 128)         0         \n",
            "_________________________________________________________________\n",
            "conv2d_108 (Conv2D)          (None, 4, 4, 128)         16512     \n",
            "_________________________________________________________________\n",
            "activation_102 (Activation)  (None, 4, 4, 128)         0         \n",
            "_________________________________________________________________\n",
            "conv2d_109 (Conv2D)          (None, 2, 2, 148)         170644    \n",
            "_________________________________________________________________\n",
            "activation_103 (Activation)  (None, 2, 2, 148)         0         \n",
            "_________________________________________________________________\n",
            "dropout_14 (Dropout)         (None, 2, 2, 148)         0         \n",
            "_________________________________________________________________\n",
            "flatten_13 (Flatten)         (None, 592)               0         \n",
            "_________________________________________________________________\n",
            "dense_36 (Dense)             (None, 512)               303616    \n",
            "_________________________________________________________________\n",
            "dense_37 (Dense)             (None, 1024)              525312    \n",
            "_________________________________________________________________\n",
            "dense_38 (Dense)             (None, 10)                10250     \n",
            "=================================================================\n",
            "Total params: 1,107,166\n",
            "Trainable params: 1,107,166\n",
            "Non-trainable params: 0\n",
            "_________________________________________________________________\n"
          ],
          "name": "stdout"
        }
      ]
    },
    {
      "cell_type": "code",
      "metadata": {
        "id": "ChfubmF2fnGT",
        "colab_type": "code",
        "outputId": "e8e7b22a-68f0-42bd-b2cd-594564270bcc",
        "colab": {
          "base_uri": "https://localhost:8080/",
          "height": 492
        }
      },
      "source": [
        "model.compile(loss=keras.losses.categorical_crossentropy,\n",
        "             optimizer=keras.optimizers.Adam(), metrics=['accuracy'])\n",
        "model.fit(x_train, y_train,\n",
        "          batch_size=batch_size,\n",
        "          epochs=epoches,\n",
        "          verbose=1,\n",
        "          validation_data=(x_test, y_test))\n",
        "score = model.evaluate(x_test, y_test, verbose=0)\n",
        "print('Test loss:', score[0])\n",
        "print('Test accuracy:', score[1])"
      ],
      "execution_count": 0,
      "outputs": [
        {
          "output_type": "stream",
          "text": [
            "Train on 60000 samples, validate on 10000 samples\n",
            "Epoch 1/12\n",
            "60000/60000 [==============================] - 118s 2ms/step - loss: 0.2333 - acc: 0.9256 - val_loss: 0.0514 - val_acc: 0.9835\n",
            "Epoch 2/12\n",
            "60000/60000 [==============================] - 116s 2ms/step - loss: 0.0712 - acc: 0.9784 - val_loss: 0.0413 - val_acc: 0.9868\n",
            "Epoch 3/12\n",
            "60000/60000 [==============================] - 116s 2ms/step - loss: 0.0507 - acc: 0.9851 - val_loss: 0.0429 - val_acc: 0.9877\n",
            "Epoch 4/12\n",
            "60000/60000 [==============================] - 115s 2ms/step - loss: 0.0444 - acc: 0.9864 - val_loss: 0.0313 - val_acc: 0.9915\n",
            "Epoch 5/12\n",
            "60000/60000 [==============================] - 115s 2ms/step - loss: 0.0375 - acc: 0.9883 - val_loss: 0.0338 - val_acc: 0.9890\n",
            "Epoch 6/12\n",
            "60000/60000 [==============================] - 115s 2ms/step - loss: 0.0320 - acc: 0.9909 - val_loss: 0.0413 - val_acc: 0.9882\n",
            "Epoch 7/12\n",
            "60000/60000 [==============================] - 115s 2ms/step - loss: 0.0327 - acc: 0.9904 - val_loss: 0.0345 - val_acc: 0.9910\n",
            "Epoch 8/12\n",
            "60000/60000 [==============================] - 115s 2ms/step - loss: 0.0297 - acc: 0.9911 - val_loss: 0.0302 - val_acc: 0.9920\n",
            "Epoch 9/12\n",
            "60000/60000 [==============================] - 115s 2ms/step - loss: 0.0245 - acc: 0.9931 - val_loss: 0.0309 - val_acc: 0.9920\n",
            "Epoch 10/12\n",
            "60000/60000 [==============================] - 115s 2ms/step - loss: 0.0258 - acc: 0.9922 - val_loss: 0.0365 - val_acc: 0.9917\n",
            "Epoch 11/12\n",
            "60000/60000 [==============================] - 116s 2ms/step - loss: 0.0247 - acc: 0.9928 - val_loss: 0.0297 - val_acc: 0.9921\n",
            "Epoch 12/12\n",
            "60000/60000 [==============================] - 116s 2ms/step - loss: 0.0230 - acc: 0.9930 - val_loss: 0.0274 - val_acc: 0.9928\n",
            "Test loss: 0.02736305812568644\n",
            "Test accuracy: 0.9928\n"
          ],
          "name": "stdout"
        }
      ]
    },
    {
      "cell_type": "markdown",
      "metadata": {
        "id": "mvYd9T0XBEqr",
        "colab_type": "text"
      },
      "source": [
        "Differen Kernel Size"
      ]
    },
    {
      "cell_type": "code",
      "metadata": {
        "id": "CWM_5jz8f1f8",
        "colab_type": "code",
        "outputId": "356c97d2-8583-4e22-bdf0-940dc218d5e6",
        "colab": {
          "base_uri": "https://localhost:8080/",
          "height": 897
        }
      },
      "source": [
        "model = Sequential()\n",
        "\n",
        "model.add(Conv2D(8, kernel_size=(3, 3), padding='valid', input_shape=input_shape))\n",
        "model.add(Activation('relu'))\n",
        "model.add(Conv2D(16, kernel_size=(3, 3), padding='valid', input_shape=input_shape))\n",
        "model.add(Activation('relu'))\n",
        "model.add(Conv2D(32, kernel_size=(3, 3), input_shape=input_shape))\n",
        "model.add(Activation('relu'))\n",
        "model.add(MaxPooling2D(pool_size=(2, 2)))\n",
        "\n",
        "model.add(Conv2D(64, kernel_size=(4, 4), padding='same', input_shape=input_shape))\n",
        "model.add(Activation('relu'))\n",
        "model.add(Conv2D(64, kernel_size=(4, 4), input_shape=input_shape))\n",
        "model.add(Activation('relu'))\n",
        "model.add(Conv2D(64, kernel_size=(4, 4),  input_shape=input_shape))\n",
        "model.add(Activation('relu'))\n",
        "\n",
        "model.add(Conv2D(98, kernel_size=(2, 2), input_shape=input_shape))\n",
        "model.add(Activation('relu'))\n",
        "\n",
        "\n",
        "\n",
        "model.add(Dropout(0.25))\n",
        "model.add(Flatten())\n",
        "model.add(Dense(1024, activation='relu'))\n",
        "model.add(Dense(512, activation='relu'))\n",
        "model.add(Dense(512, activation='relu'))\n",
        "\n",
        "model.add(Dense(num_classes, activation='softmax'))\n",
        "\n",
        "model.summary()"
      ],
      "execution_count": 0,
      "outputs": [
        {
          "output_type": "stream",
          "text": [
            "Model: \"sequential_20\"\n",
            "_________________________________________________________________\n",
            "Layer (type)                 Output Shape              Param #   \n",
            "=================================================================\n",
            "conv2d_124 (Conv2D)          (None, 26, 26, 8)         80        \n",
            "_________________________________________________________________\n",
            "activation_118 (Activation)  (None, 26, 26, 8)         0         \n",
            "_________________________________________________________________\n",
            "conv2d_125 (Conv2D)          (None, 24, 24, 16)        1168      \n",
            "_________________________________________________________________\n",
            "activation_119 (Activation)  (None, 24, 24, 16)        0         \n",
            "_________________________________________________________________\n",
            "conv2d_126 (Conv2D)          (None, 22, 22, 32)        4640      \n",
            "_________________________________________________________________\n",
            "activation_120 (Activation)  (None, 22, 22, 32)        0         \n",
            "_________________________________________________________________\n",
            "max_pooling2d_36 (MaxPooling (None, 11, 11, 32)        0         \n",
            "_________________________________________________________________\n",
            "conv2d_127 (Conv2D)          (None, 11, 11, 64)        32832     \n",
            "_________________________________________________________________\n",
            "activation_121 (Activation)  (None, 11, 11, 64)        0         \n",
            "_________________________________________________________________\n",
            "conv2d_128 (Conv2D)          (None, 8, 8, 64)          65600     \n",
            "_________________________________________________________________\n",
            "activation_122 (Activation)  (None, 8, 8, 64)          0         \n",
            "_________________________________________________________________\n",
            "conv2d_129 (Conv2D)          (None, 5, 5, 64)          65600     \n",
            "_________________________________________________________________\n",
            "activation_123 (Activation)  (None, 5, 5, 64)          0         \n",
            "_________________________________________________________________\n",
            "conv2d_130 (Conv2D)          (None, 4, 4, 98)          25186     \n",
            "_________________________________________________________________\n",
            "activation_124 (Activation)  (None, 4, 4, 98)          0         \n",
            "_________________________________________________________________\n",
            "dropout_17 (Dropout)         (None, 4, 4, 98)          0         \n",
            "_________________________________________________________________\n",
            "flatten_16 (Flatten)         (None, 1568)              0         \n",
            "_________________________________________________________________\n",
            "dense_47 (Dense)             (None, 1024)              1606656   \n",
            "_________________________________________________________________\n",
            "dense_48 (Dense)             (None, 512)               524800    \n",
            "_________________________________________________________________\n",
            "dense_49 (Dense)             (None, 512)               262656    \n",
            "_________________________________________________________________\n",
            "dense_50 (Dense)             (None, 10)                5130      \n",
            "=================================================================\n",
            "Total params: 2,594,348\n",
            "Trainable params: 2,594,348\n",
            "Non-trainable params: 0\n",
            "_________________________________________________________________\n"
          ],
          "name": "stdout"
        }
      ]
    },
    {
      "cell_type": "code",
      "metadata": {
        "id": "Uz8U6OeVmUgm",
        "colab_type": "code",
        "outputId": "c49144d7-25df-4b1e-fd65-5fecf1bd9c1c",
        "colab": {
          "base_uri": "https://localhost:8080/",
          "height": 492
        }
      },
      "source": [
        "model.compile(loss=keras.losses.categorical_crossentropy,\n",
        "             optimizer=keras.optimizers.Adam(), metrics=['accuracy'])\n",
        "model.fit(x_train, y_train,\n",
        "          batch_size=batch_size,\n",
        "          epochs=epoches,\n",
        "          verbose=1,\n",
        "          validation_data=(x_test, y_test))\n",
        "score = model.evaluate(x_test, y_test, verbose=0)\n",
        "print('Test loss:', score[0])\n",
        "print('Test accuracy:', score[1])"
      ],
      "execution_count": 0,
      "outputs": [
        {
          "output_type": "stream",
          "text": [
            "Train on 60000 samples, validate on 10000 samples\n",
            "Epoch 1/12\n",
            "60000/60000 [==============================] - 211s 4ms/step - loss: 0.2394 - acc: 0.9205 - val_loss: 0.0474 - val_acc: 0.9862\n",
            "Epoch 2/12\n",
            "60000/60000 [==============================] - 207s 3ms/step - loss: 0.0609 - acc: 0.9821 - val_loss: 0.0422 - val_acc: 0.9863\n",
            "Epoch 3/12\n",
            "60000/60000 [==============================] - 207s 3ms/step - loss: 0.0433 - acc: 0.9879 - val_loss: 0.0389 - val_acc: 0.9889\n",
            "Epoch 4/12\n",
            "60000/60000 [==============================] - 207s 3ms/step - loss: 0.0363 - acc: 0.9897 - val_loss: 0.0413 - val_acc: 0.9887\n",
            "Epoch 5/12\n",
            "60000/60000 [==============================] - 208s 3ms/step - loss: 0.0351 - acc: 0.9903 - val_loss: 0.0348 - val_acc: 0.9907\n",
            "Epoch 6/12\n",
            "60000/60000 [==============================] - 208s 3ms/step - loss: 0.0300 - acc: 0.9921 - val_loss: 0.0270 - val_acc: 0.9926\n",
            "Epoch 7/12\n",
            "60000/60000 [==============================] - 208s 3ms/step - loss: 0.0284 - acc: 0.9922 - val_loss: 0.0260 - val_acc: 0.9932\n",
            "Epoch 8/12\n",
            "60000/60000 [==============================] - 209s 3ms/step - loss: 0.0210 - acc: 0.9935 - val_loss: 0.0321 - val_acc: 0.9927\n",
            "Epoch 9/12\n",
            "60000/60000 [==============================] - 208s 3ms/step - loss: 0.0237 - acc: 0.9938 - val_loss: 0.0294 - val_acc: 0.9921\n",
            "Epoch 10/12\n",
            "60000/60000 [==============================] - 208s 3ms/step - loss: 0.0223 - acc: 0.9940 - val_loss: 0.0401 - val_acc: 0.9904\n",
            "Epoch 11/12\n",
            "60000/60000 [==============================] - 207s 3ms/step - loss: 0.0209 - acc: 0.9944 - val_loss: 0.0459 - val_acc: 0.9906\n",
            "Epoch 12/12\n",
            "60000/60000 [==============================] - 207s 3ms/step - loss: 0.0195 - acc: 0.9944 - val_loss: 0.0351 - val_acc: 0.9913\n",
            "Test loss: 0.03511540410733887\n",
            "Test accuracy: 0.9913\n"
          ],
          "name": "stdout"
        }
      ]
    },
    {
      "cell_type": "code",
      "metadata": {
        "id": "0MUjHcXEA2_X",
        "colab_type": "code",
        "colab": {}
      },
      "source": [
        ""
      ],
      "execution_count": 0,
      "outputs": []
    },
    {
      "cell_type": "markdown",
      "metadata": {
        "id": "EpOJnLFbA4CO",
        "colab_type": "text"
      },
      "source": [
        "Different Dense Layers"
      ]
    },
    {
      "cell_type": "code",
      "metadata": {
        "id": "tkYFO4U-mi0q",
        "colab_type": "code",
        "outputId": "e8d0a320-dca8-4da4-edfd-603106d25a6a",
        "colab": {
          "base_uri": "https://localhost:8080/",
          "height": 952
        }
      },
      "source": [
        "model = Sequential()\n",
        "\n",
        "model.add(Conv2D(8, kernel_size=(2, 2), padding='valid', input_shape=input_shape))\n",
        "model.add(Activation('relu'))\n",
        "model.add(Conv2D(16, kernel_size=(3, 3), padding='valid', input_shape=input_shape))\n",
        "model.add(Activation('relu'))\n",
        "model.add(Conv2D(32, kernel_size=(5, 5), input_shape=input_shape))\n",
        "model.add(Activation('relu'))\n",
        "model.add(MaxPooling2D(pool_size=(2, 2)))\n",
        "\n",
        "model.add(Conv2D(64, kernel_size=(3, 3), padding='valid', input_shape=input_shape))\n",
        "model.add(Activation('relu'))\n",
        "model.add(Conv2D(64, kernel_size=(4, 4), input_shape=input_shape))\n",
        "model.add(Activation('relu'))\n",
        "model.add(Conv2D(64, kernel_size=(4, 4),  input_shape=input_shape))\n",
        "model.add(Activation('relu'))\n",
        "\n",
        "model.add(Conv2D(98, kernel_size=(2, 2), input_shape=input_shape))\n",
        "model.add(Activation('relu'))\n",
        "\n",
        "\n",
        "\n",
        "model.add(Dropout(0.25))\n",
        "model.add(Flatten())\n",
        "model.add(Dense(1024, activation='relu'))\n",
        "model.add(Dense(512, activation='relu'))\n",
        "model.add(Dense(512, activation='relu'))\n",
        "\n",
        "model.add(Dense(num_classes, activation='softmax'))\n",
        "\n",
        "model.summary()"
      ],
      "execution_count": 0,
      "outputs": [
        {
          "output_type": "stream",
          "text": [
            "W0901 16:23:03.592473 140590402131840 deprecation_wrapper.py:119] From /usr/local/lib/python3.6/dist-packages/keras/backend/tensorflow_backend.py:4267: The name tf.nn.max_pool is deprecated. Please use tf.nn.max_pool2d instead.\n",
            "\n"
          ],
          "name": "stderr"
        },
        {
          "output_type": "stream",
          "text": [
            "Model: \"sequential_5\"\n",
            "_________________________________________________________________\n",
            "Layer (type)                 Output Shape              Param #   \n",
            "=================================================================\n",
            "conv2d_21 (Conv2D)           (None, 27, 27, 8)         40        \n",
            "_________________________________________________________________\n",
            "activation_21 (Activation)   (None, 27, 27, 8)         0         \n",
            "_________________________________________________________________\n",
            "conv2d_22 (Conv2D)           (None, 25, 25, 16)        1168      \n",
            "_________________________________________________________________\n",
            "activation_22 (Activation)   (None, 25, 25, 16)        0         \n",
            "_________________________________________________________________\n",
            "conv2d_23 (Conv2D)           (None, 21, 21, 32)        12832     \n",
            "_________________________________________________________________\n",
            "activation_23 (Activation)   (None, 21, 21, 32)        0         \n",
            "_________________________________________________________________\n",
            "max_pooling2d_1 (MaxPooling2 (None, 10, 10, 32)        0         \n",
            "_________________________________________________________________\n",
            "conv2d_24 (Conv2D)           (None, 8, 8, 64)          18496     \n",
            "_________________________________________________________________\n",
            "activation_24 (Activation)   (None, 8, 8, 64)          0         \n",
            "_________________________________________________________________\n",
            "conv2d_25 (Conv2D)           (None, 5, 5, 64)          65600     \n",
            "_________________________________________________________________\n",
            "activation_25 (Activation)   (None, 5, 5, 64)          0         \n",
            "_________________________________________________________________\n",
            "conv2d_26 (Conv2D)           (None, 2, 2, 64)          65600     \n",
            "_________________________________________________________________\n",
            "activation_26 (Activation)   (None, 2, 2, 64)          0         \n",
            "_________________________________________________________________\n",
            "conv2d_27 (Conv2D)           (None, 1, 1, 98)          25186     \n",
            "_________________________________________________________________\n",
            "activation_27 (Activation)   (None, 1, 1, 98)          0         \n",
            "_________________________________________________________________\n",
            "dropout_5 (Dropout)          (None, 1, 1, 98)          0         \n",
            "_________________________________________________________________\n",
            "flatten_5 (Flatten)          (None, 98)                0         \n",
            "_________________________________________________________________\n",
            "dense_13 (Dense)             (None, 1024)              101376    \n",
            "_________________________________________________________________\n",
            "dense_14 (Dense)             (None, 512)               524800    \n",
            "_________________________________________________________________\n",
            "dense_15 (Dense)             (None, 512)               262656    \n",
            "_________________________________________________________________\n",
            "dense_16 (Dense)             (None, 10)                5130      \n",
            "=================================================================\n",
            "Total params: 1,082,884\n",
            "Trainable params: 1,082,884\n",
            "Non-trainable params: 0\n",
            "_________________________________________________________________\n"
          ],
          "name": "stdout"
        }
      ]
    },
    {
      "cell_type": "code",
      "metadata": {
        "id": "USBjI7bAwSxq",
        "colab_type": "code",
        "outputId": "9e265586-272e-4493-bfc8-8dddd8232d3d",
        "colab": {
          "base_uri": "https://localhost:8080/",
          "height": 492
        }
      },
      "source": [
        "model.compile(loss=keras.losses.categorical_crossentropy,\n",
        "             optimizer=keras.optimizers.Adam(), metrics=['accuracy'])\n",
        "model.fit(x_train, y_train,\n",
        "          batch_size=batch_size,\n",
        "          epochs=epoches,\n",
        "          verbose=1,\n",
        "          validation_data=(x_test, y_test))\n",
        "score = model.evaluate(x_test, y_test, verbose=0)\n",
        "print('Test loss:', score[0])\n",
        "print('Test accuracy:', score[1])"
      ],
      "execution_count": 0,
      "outputs": [
        {
          "output_type": "stream",
          "text": [
            "Train on 60000 samples, validate on 10000 samples\n",
            "Epoch 1/12\n",
            "60000/60000 [==============================] - 171s 3ms/step - loss: 0.2860 - acc: 0.9087 - val_loss: 0.0832 - val_acc: 0.9767\n",
            "Epoch 2/12\n",
            "60000/60000 [==============================] - 171s 3ms/step - loss: 0.0757 - acc: 0.9798 - val_loss: 0.0558 - val_acc: 0.9849\n",
            "Epoch 3/12\n",
            "60000/60000 [==============================] - 171s 3ms/step - loss: 0.0532 - acc: 0.9855 - val_loss: 0.0530 - val_acc: 0.9866\n",
            "Epoch 4/12\n",
            "60000/60000 [==============================] - 171s 3ms/step - loss: 0.0464 - acc: 0.9874 - val_loss: 0.0372 - val_acc: 0.9909\n",
            "Epoch 5/12\n",
            "60000/60000 [==============================] - 171s 3ms/step - loss: 0.0408 - acc: 0.9892 - val_loss: 0.0359 - val_acc: 0.9914\n",
            "Epoch 6/12\n",
            "60000/60000 [==============================] - 171s 3ms/step - loss: 0.0361 - acc: 0.9906 - val_loss: 0.0311 - val_acc: 0.9921\n",
            "Epoch 7/12\n",
            "60000/60000 [==============================] - 173s 3ms/step - loss: 0.0316 - acc: 0.9924 - val_loss: 0.0513 - val_acc: 0.9887\n",
            "Epoch 8/12\n",
            "60000/60000 [==============================] - 172s 3ms/step - loss: 0.0304 - acc: 0.9927 - val_loss: 0.0301 - val_acc: 0.9918\n",
            "Epoch 9/12\n",
            "60000/60000 [==============================] - 172s 3ms/step - loss: 0.0264 - acc: 0.9932 - val_loss: 0.0288 - val_acc: 0.9930\n",
            "Epoch 10/12\n",
            "60000/60000 [==============================] - 170s 3ms/step - loss: 0.0272 - acc: 0.9938 - val_loss: 0.0319 - val_acc: 0.9926\n",
            "Epoch 11/12\n",
            "60000/60000 [==============================] - 171s 3ms/step - loss: 0.0269 - acc: 0.9932 - val_loss: 0.0412 - val_acc: 0.9929\n",
            "Epoch 12/12\n",
            "60000/60000 [==============================] - 171s 3ms/step - loss: 0.0220 - acc: 0.9950 - val_loss: 0.0397 - val_acc: 0.9917\n",
            "Test loss: 0.03973071818416938\n",
            "Test accuracy: 0.9917\n"
          ],
          "name": "stdout"
        }
      ]
    },
    {
      "cell_type": "code",
      "metadata": {
        "id": "I1c2QTT5xKYJ",
        "colab_type": "code",
        "colab": {}
      },
      "source": [
        ""
      ],
      "execution_count": 0,
      "outputs": []
    },
    {
      "cell_type": "markdown",
      "metadata": {
        "id": "SLuPoYeL0TyA",
        "colab_type": "text"
      },
      "source": [
        "# **Conclusion**"
      ]
    },
    {
      "cell_type": "code",
      "metadata": {
        "id": "P1cp5DdRxKlg",
        "colab_type": "code",
        "outputId": "3d020e40-4f2e-44e7-db42-4eabcfa9d15f",
        "colab": {
          "base_uri": "https://localhost:8080/",
          "height": 1000
        }
      },
      "source": [
        "# Please compare all your models using Prettytable library\n",
        "\n",
        "from prettytable import PrettyTable\n",
        "\n",
        "\n",
        "x = PrettyTable()\n",
        "x.field_names = [\"Index\", \"No.of Conv Layers\", \"Layers\", \"Test Loss\", \"Accuracy\"]\n",
        "\n",
        "\n",
        "x.add_row([\"1\", \"2\",  \"conv(32, 3, 3) \\nconv(64, 3, 3) \\nmaxpool(2,3)\", 0.031, 99.13])\n",
        "x.add_row([\"....\",\"...............\",  \"..............................\", \"..........\", \"..............\"])\n",
        "x.add_row([\"2\", \"3\",  \"conv(6, 5, 5) \\nmaxpool(2,2) \\nconv(16, 5, 5) \\nmaxpool(2,2) \\nconv(120, 5, 5) \", 0.032, 99.06])\n",
        "x.add_row([\"....\",\"...............\",  \"....................................\", \"..........\", \"..............\"])\n",
        "x.add_row([\"3\", \"3\",  \"conv(6, 5, 5) \\ndropout(0.25) \\nmaxpool(2,2) \\nconv(16, 5, 5) \\ndropout(0.2) \\nmaxpool(2,2) \\nconv(120, 5, 5)\\ndropout(0.2) \", 0.030, 99.06])\n",
        "x.add_row([\"....\",\"...............\",  \"....................................\", \"..........\", \"..............\"])\n",
        "x.add_row([\"4\", \"3\",  \"conv(6, 5, 5, strid(2, 2)) \\ndropout(0.25)  \\nmaxpool(2,2) \\nconv(16, 5, 5)\\ndropout(0.25) \\nmaxpool(2,2) \\nconv(120, 5, 5) \", 0.026, 99.20])\n",
        "x.add_row([\"....\",\"...............\",  \"....................................\", \"..........\", \"..............\"])\n",
        "x.add_row([\"5\", \"3\",  \"conv(20, 5, 5, strid(2, 2)) \\ndropout(0.2) \\nmaxpool(2,2) \\nconv(40, 5, 5) \\nconv(60, 7, 7) \\n(dropout) \", 0.026, 99.28])\n",
        "x.add_row([\"....\",\"...............\",  \"....................................\", \"..........\", \"..............\"])\n",
        "x.add_row([\"6\", \"5\",   \"conv(6, 3, 3, padding=same)  \\nconv(8, 5, 5) \\nconv(12, 7, 7) \\nconv(16, 6, 6)  \\nconv(20, 7, 7) \\n(dropout(0.2)) \", 0.038, 99.12])\n",
        "x.add_row([\"....\",\"...............\",  \"....................................\", \"..........\", \"..............\"])\n",
        "x.add_row([\"7\", \"5\",  \"conv(6, 3, 3)  \\nconv(8, 5, 5) \\nconv(12, 4, 4) \\nconv(16, 6, 6)  \\nconv(20, 3, 3) \\n(dropout(0.2)) \", 0.040, 98.87])\n",
        "x.add_row([\"....\",\"...............\",  \"....................................\", \"..........\", \"..............\"])\n",
        "x.add_row([\"8\", \"5\",  \"conv(6, 4, 4)  \\nconv(8, 5, 5) \\nconv(12, 7, 7) \\nconv(16, 7, 7)  \\nconv(20, 5, 5) \\n(dropout(0.2)) \", 0.038, 98.92])\n",
        "x.add_row([\"....\",\"...............\",  \"....................................\", \"..........\", \"..............\"])\n",
        "x.add_row([\"9\", \"5\",  \"conv(6, 3, 3)  \\nconv(8, 3, 3) \\nconv(12, 3, 3) \\nconv(16, 3, 3)  \\nconv(20, 3, 3) \\n(dropout(0.2))\", 0.038, 99.98])\n",
        "x.add_row([\"....\",\"...............\",  \"....................................\", \"..........\", \"..............\"])\n",
        "x.add_row([\"10\", \"5\",  \"conv(16, 3, 3)  \\nconv(32, 3, 3) \\nmax(2,2) \\nconv(64, 3, 3) \\nconv(128, 3, 3)  \\nmaxpool(2,2) \\nconv(256, 3, 3) \\n(dropout(0.2))\", 0.04, 99])\n",
        "x.add_row([\"....\",\"...............\",  \"....................................\", \"..........\", \"..............\"])\n",
        "x.add_row([\"11\", \"5\",  \"conv(6, 3, 3)  \\nconv(8, 5, 5) \\nmax(2,2) \\nconv(12, 4, 4) \\nconv(16, 6, 6)  \\nmaxpool(2,2) \\nconv(20, 3, 3) \\n(dropout(0.2))\", 0.033, 99.08])\n",
        "x.add_row([\"....\",\"...............\",  \"....................................\", \"..........\", \"..............\"])\n",
        "x.add_row([\"12\", \"5\",   \"conv(32, 1, 1)  \\nconv(32, 3, 3) \\nmax(2,2) \\nconv(32, 1, 1) \\nconv(64, 3, 3)  \\nmaxpool(2,2) \\nconv(64, 1, 1) \\n(dropout(0.2))\", 0.031, 99.13])\n",
        "x.add_row([\"....\",\"...............\",  \"....................................\", \"..........\", \"..............\"])\n",
        "x.add_row([\"13\", \"7\",  \"conv(6, 3, 3)  \\nconv(8, 4, 4) \\nmax(2,2) \\nconv(12, 5, 5) \\nconv(16, 6, 6)  \\nmaxpool(2,2) \\nconv(8, 2, 2)  \\nconv(8, 3, 3) \\nconv(12, 4, 4) \\n(dropout(0.2))\", 0.05, 98.51])\n",
        "x.add_row([\"....\",\"...............\",  \"....................................\", \"..........\", \"..............\"])\n",
        "x.add_row([\"14\", \"7\",  \"conv(10, 3, 3)  \\nconv(20, 3, 3) \\nmax(2,2) \\nconv(30, 3, 3) \\nconv(40, 3, 3)  \\nmaxpool(2,2) \\nconv(50, 3, 3)  \\nconv(60, 3, 3) \\nconv(70, 4, 4) \\n(dropout(0.2))\", 0.031, 99.07])\n",
        "x.add_row([\"....\",\"...............\",  \"....................................\", \"..........\", \"..............\"])\n",
        "x.add_row([\"15\", \"7\",  \"conv(8, 3, 3)  \\nconv(16, 1, 1) \\nmax(2,2) \\nconv(32, 3, 3) \\nconv(64, 1, 1)  \\nconv(128, 3, 3)  \\nmaxpool(2,2)  \\nconv(128, 1, 1) \\nconv(148, 3, 3) \\n(dropout(0.2))\", 0.027, 99.28])\n",
        "x.add_row([\"....\",\"...............\",  \"....................................\", \"..........\", \"..............\"])\n",
        "x.add_row([\"15\", \"7\",  \"conv(8, 3, 3)  \\nconv(16, 1, 1) \\nconv(32, 3, 3) \\nmax(2,2)  \\nconv(64, 3, 3)  \\nconv(64, 3, 3)  \\nconv(64, 3, 3) \\nconv(98, 2, 2) \\n(dropout(0.2))\", 0.035, 99.13])\n",
        "x.add_row([\"....\",\"...............\",  \"....................................\", \"..........\", \"..............\"])\n",
        "x.add_row([\"15\", \"7\",  \"conv(8, 2, 2)  \\nconv(16, 3, 3) \\nconv(32, 3, 3) \\nmax(2,2) \\nconv(64, 3, 3) \\nconv(64, 4, 4)  \\nconv(64, 4, 4)   \\nconv(98, 2, 2) \\n(dropout(0.2))\", 0.039, 99.17])\n",
        "\n",
        "\n",
        "\n",
        "print(x)"
      ],
      "execution_count": 0,
      "outputs": [
        {
          "output_type": "stream",
          "text": [
            "+-------+-------------------+--------------------------------------+------------+----------------+\n",
            "| Index | No.of Conv Layers |                Layers                | Test Loss  |    Accuracy    |\n",
            "+-------+-------------------+--------------------------------------+------------+----------------+\n",
            "|   1   |         2         |           conv(32, 3, 3)             |   0.031    |     99.13      |\n",
            "|       |                   |           conv(64, 3, 3)             |            |                |\n",
            "|       |                   |             maxpool(2,3)             |            |                |\n",
            "|  .... |  ...............  |    ..............................    | .......... | .............. |\n",
            "|   2   |         3         |            conv(6, 5, 5)             |   0.032    |     99.06      |\n",
            "|       |                   |            maxpool(2,2)              |            |                |\n",
            "|       |                   |           conv(16, 5, 5)             |            |                |\n",
            "|       |                   |            maxpool(2,2)              |            |                |\n",
            "|       |                   |           conv(120, 5, 5)            |            |                |\n",
            "|  .... |  ...............  | .................................... | .......... | .............. |\n",
            "|   3   |         3         |            conv(6, 5, 5)             |    0.03    |     99.06      |\n",
            "|       |                   |            dropout(0.25)             |            |                |\n",
            "|       |                   |            maxpool(2,2)              |            |                |\n",
            "|       |                   |           conv(16, 5, 5)             |            |                |\n",
            "|       |                   |            dropout(0.2)              |            |                |\n",
            "|       |                   |            maxpool(2,2)              |            |                |\n",
            "|       |                   |           conv(120, 5, 5)            |            |                |\n",
            "|       |                   |            dropout(0.2)              |            |                |\n",
            "|  .... |  ...............  | .................................... | .......... | .............. |\n",
            "|   4   |         3         |     conv(6, 5, 5, strid(2, 2))       |   0.026    |      99.2      |\n",
            "|       |                   |           dropout(0.25)              |            |                |\n",
            "|       |                   |            maxpool(2,2)              |            |                |\n",
            "|       |                   |            conv(16, 5, 5)            |            |                |\n",
            "|       |                   |            dropout(0.25)             |            |                |\n",
            "|       |                   |            maxpool(2,2)              |            |                |\n",
            "|       |                   |           conv(120, 5, 5)            |            |                |\n",
            "|  .... |  ...............  | .................................... | .......... | .............. |\n",
            "|   5   |         3         |     conv(20, 5, 5, strid(2, 2))      |   0.026    |     99.28      |\n",
            "|       |                   |            dropout(0.2)              |            |                |\n",
            "|       |                   |            maxpool(2,2)              |            |                |\n",
            "|       |                   |           conv(40, 5, 5)             |            |                |\n",
            "|       |                   |           conv(60, 7, 7)             |            |                |\n",
            "|       |                   |              (dropout)               |            |                |\n",
            "|  .... |  ...............  | .................................... | .......... | .............. |\n",
            "|   6   |         5         |    conv(6, 3, 3, padding=same)       |   0.038    |     99.12      |\n",
            "|       |                   |            conv(8, 5, 5)             |            |                |\n",
            "|       |                   |           conv(12, 7, 7)             |            |                |\n",
            "|       |                   |           conv(16, 6, 6)             |            |                |\n",
            "|       |                   |           conv(20, 7, 7)             |            |                |\n",
            "|       |                   |           (dropout(0.2))             |            |                |\n",
            "|  .... |  ...............  | .................................... | .......... | .............. |\n",
            "|   7   |         5         |           conv(6, 3, 3)              |    0.04    |     98.87      |\n",
            "|       |                   |            conv(8, 5, 5)             |            |                |\n",
            "|       |                   |           conv(12, 4, 4)             |            |                |\n",
            "|       |                   |           conv(16, 6, 6)             |            |                |\n",
            "|       |                   |           conv(20, 3, 3)             |            |                |\n",
            "|       |                   |           (dropout(0.2))             |            |                |\n",
            "|  .... |  ...............  | .................................... | .......... | .............. |\n",
            "|   8   |         5         |           conv(6, 4, 4)              |   0.038    |     98.92      |\n",
            "|       |                   |            conv(8, 5, 5)             |            |                |\n",
            "|       |                   |           conv(12, 7, 7)             |            |                |\n",
            "|       |                   |           conv(16, 7, 7)             |            |                |\n",
            "|       |                   |           conv(20, 5, 5)             |            |                |\n",
            "|       |                   |           (dropout(0.2))             |            |                |\n",
            "|  .... |  ...............  | .................................... | .......... | .............. |\n",
            "|   9   |         5         |           conv(6, 3, 3)              |   0.038    |     99.98      |\n",
            "|       |                   |            conv(8, 3, 3)             |            |                |\n",
            "|       |                   |           conv(12, 3, 3)             |            |                |\n",
            "|       |                   |           conv(16, 3, 3)             |            |                |\n",
            "|       |                   |           conv(20, 3, 3)             |            |                |\n",
            "|       |                   |            (dropout(0.2))            |            |                |\n",
            "|  .... |  ...............  | .................................... | .......... | .............. |\n",
            "|   10  |         5         |           conv(16, 3, 3)             |    0.04    |       99       |\n",
            "|       |                   |           conv(32, 3, 3)             |            |                |\n",
            "|       |                   |              max(2,2)                |            |                |\n",
            "|       |                   |           conv(64, 3, 3)             |            |                |\n",
            "|       |                   |          conv(128, 3, 3)             |            |                |\n",
            "|       |                   |            maxpool(2,2)              |            |                |\n",
            "|       |                   |           conv(256, 3, 3)            |            |                |\n",
            "|       |                   |            (dropout(0.2))            |            |                |\n",
            "|  .... |  ...............  | .................................... | .......... | .............. |\n",
            "|   11  |         5         |           conv(6, 3, 3)              |   0.033    |     99.08      |\n",
            "|       |                   |            conv(8, 5, 5)             |            |                |\n",
            "|       |                   |              max(2,2)                |            |                |\n",
            "|       |                   |           conv(12, 4, 4)             |            |                |\n",
            "|       |                   |           conv(16, 6, 6)             |            |                |\n",
            "|       |                   |            maxpool(2,2)              |            |                |\n",
            "|       |                   |           conv(20, 3, 3)             |            |                |\n",
            "|       |                   |            (dropout(0.2))            |            |                |\n",
            "|  .... |  ...............  | .................................... | .......... | .............. |\n",
            "|   12  |         5         |           conv(32, 1, 1)             |   0.031    |     99.13      |\n",
            "|       |                   |           conv(32, 3, 3)             |            |                |\n",
            "|       |                   |              max(2,2)                |            |                |\n",
            "|       |                   |           conv(32, 1, 1)             |            |                |\n",
            "|       |                   |           conv(64, 3, 3)             |            |                |\n",
            "|       |                   |            maxpool(2,2)              |            |                |\n",
            "|       |                   |           conv(64, 1, 1)             |            |                |\n",
            "|       |                   |            (dropout(0.2))            |            |                |\n",
            "|  .... |  ...............  | .................................... | .......... | .............. |\n",
            "|   13  |         7         |           conv(6, 3, 3)              |    0.05    |     98.51      |\n",
            "|       |                   |            conv(8, 4, 4)             |            |                |\n",
            "|       |                   |              max(2,2)                |            |                |\n",
            "|       |                   |           conv(12, 5, 5)             |            |                |\n",
            "|       |                   |           conv(16, 6, 6)             |            |                |\n",
            "|       |                   |            maxpool(2,2)              |            |                |\n",
            "|       |                   |           conv(8, 2, 2)              |            |                |\n",
            "|       |                   |            conv(8, 3, 3)             |            |                |\n",
            "|       |                   |           conv(12, 4, 4)             |            |                |\n",
            "|       |                   |            (dropout(0.2))            |            |                |\n",
            "|  .... |  ...............  | .................................... | .......... | .............. |\n",
            "|   14  |         7         |           conv(10, 3, 3)             |   0.031    |     99.07      |\n",
            "|       |                   |           conv(20, 3, 3)             |            |                |\n",
            "|       |                   |              max(2,2)                |            |                |\n",
            "|       |                   |           conv(30, 3, 3)             |            |                |\n",
            "|       |                   |           conv(40, 3, 3)             |            |                |\n",
            "|       |                   |            maxpool(2,2)              |            |                |\n",
            "|       |                   |           conv(50, 3, 3)             |            |                |\n",
            "|       |                   |           conv(60, 3, 3)             |            |                |\n",
            "|       |                   |           conv(70, 4, 4)             |            |                |\n",
            "|       |                   |            (dropout(0.2))            |            |                |\n",
            "|  .... |  ...............  | .................................... | .......... | .............. |\n",
            "|   15  |         7         |           conv(8, 3, 3)              |   0.027    |     99.28      |\n",
            "|       |                   |           conv(16, 1, 1)             |            |                |\n",
            "|       |                   |              max(2,2)                |            |                |\n",
            "|       |                   |           conv(32, 3, 3)             |            |                |\n",
            "|       |                   |           conv(64, 1, 1)             |            |                |\n",
            "|       |                   |          conv(128, 3, 3)             |            |                |\n",
            "|       |                   |            maxpool(2,2)              |            |                |\n",
            "|       |                   |           conv(128, 1, 1)            |            |                |\n",
            "|       |                   |           conv(148, 3, 3)            |            |                |\n",
            "|       |                   |            (dropout(0.2))            |            |                |\n",
            "|  .... |  ...............  | .................................... | .......... | .............. |\n",
            "|   15  |         7         |           conv(8, 3, 3)              |   0.035    |     99.13      |\n",
            "|       |                   |           conv(16, 1, 1)             |            |                |\n",
            "|       |                   |           conv(32, 3, 3)             |            |                |\n",
            "|       |                   |              max(2,2)                |            |                |\n",
            "|       |                   |           conv(64, 3, 3)             |            |                |\n",
            "|       |                   |           conv(64, 3, 3)             |            |                |\n",
            "|       |                   |           conv(64, 3, 3)             |            |                |\n",
            "|       |                   |           conv(98, 2, 2)             |            |                |\n",
            "|       |                   |            (dropout(0.2))            |            |                |\n",
            "|  .... |  ...............  | .................................... | .......... | .............. |\n",
            "|   15  |         7         |           conv(8, 2, 2)              |   0.039    |     99.17      |\n",
            "|       |                   |           conv(16, 3, 3)             |            |                |\n",
            "|       |                   |           conv(32, 3, 3)             |            |                |\n",
            "|       |                   |              max(2,2)                |            |                |\n",
            "|       |                   |           conv(64, 3, 3)             |            |                |\n",
            "|       |                   |           conv(64, 4, 4)             |            |                |\n",
            "|       |                   |          conv(64, 4, 4)              |            |                |\n",
            "|       |                   |           conv(98, 2, 2)             |            |                |\n",
            "|       |                   |            (dropout(0.2))            |            |                |\n",
            "+-------+-------------------+--------------------------------------+------------+----------------+\n"
          ],
          "name": "stdout"
        }
      ]
    },
    {
      "cell_type": "markdown",
      "metadata": {
        "id": "2kGoHELl6I48",
        "colab_type": "text"
      },
      "source": [
        "In this assingment I used 3 different ConvNets with 3, 5 and 7 conv layers.\n",
        "In that I used different size of kernals, maxpool layers ,strides and different dropout layers.\n",
        "When I used 3 conv layers I got 99.28% accuracy.\n",
        "In 5 conv layers I got 99.12%. In 7 conv layers I got 99.28% accuarcy.\n",
        "In some cases I used same size kernals to keep it simple.\n",
        "In some model I have used different size kerals. In some cases I used (1, 1) kernals to retuce the number Trainable params and observe that accuracy is good.\n"
      ]
    },
    {
      "cell_type": "code",
      "metadata": {
        "id": "m6STAiOV0b4u",
        "colab_type": "code",
        "colab": {}
      },
      "source": [
        ""
      ],
      "execution_count": 0,
      "outputs": []
    }
  ]
}